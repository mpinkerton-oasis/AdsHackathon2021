{
 "metadata": {
  "language_info": {
   "codemirror_mode": {
    "name": "ipython",
    "version": 3
   },
   "file_extension": ".py",
   "mimetype": "text/x-python",
   "name": "python",
   "nbconvert_exporter": "python",
   "pygments_lexer": "ipython3",
   "version": "3.9.5"
  },
  "orig_nbformat": 2,
  "kernelspec": {
   "name": "python395jvsc74a57bd01ef85aefffd126bbafcdd59b545562a4a2b98bad151b8cb181c3eeee4e847cfd",
   "display_name": "Python 3.9.5 64-bit ('sleep_tracker': virtualenvwrapper)"
  },
  "metadata": {
   "interpreter": {
    "hash": "aee8b7b246df8f9039afb4144a1f6fd8d2ca17a180786b69acc140d282b71a49"
   }
  }
 },
 "nbformat": 4,
 "nbformat_minor": 2,
 "cells": [
  {
   "cell_type": "code",
   "execution_count": null,
   "metadata": {},
   "outputs": [],
   "source": [
    "import fitbit\n",
    "import gather_keys_oauth2 as Oauth2\n",
    "import pandas as pd \n",
    "import datetime\n",
    "import os\n",
    "\n",
    "CLIENT_ID = XXXX\n",
    "CLIENT_SECRET = XXXX"
   ]
  },
  {
   "cell_type": "code",
   "execution_count": null,
   "metadata": {},
   "outputs": [],
   "source": [
    "server = Oauth2.OAuth2Server(CLIENT_ID, CLIENT_SECRET)\n",
    "server.browser_authorize()\n",
    "ACCESS_TOKEN = str(server.fitbit.client.session.token['access_token'])\n",
    "REFRESH_TOKEN = str(server.fitbit.client.session.token['refresh_token'])\n",
    "auth2_client = fitbit.Fitbit(CLIENT_ID, CLIENT_SECRET, oauth2=True, access_token=ACCESS_TOKEN, refresh_token=REFRESH_TOKEN)"
   ]
  },
  {
   "cell_type": "code",
   "execution_count": null,
   "metadata": {},
   "outputs": [],
   "source": [
    "# Pull down the sleep data for a specified date range. \n",
    "# Note that the FB API only allows up to 100 requests per hour!\n",
    "\n",
    "start_time = pd.datetime(year = 2020, month = 2, day = 1)\n",
    "end_time = pd.datetime(year = 2021, month = 4, day = 30)\n",
    "all_dates = pd.date_range(start=start_time, end = end_time)\n",
    "\n",
    "date = []\n",
    "duration = []\n",
    "start_time = []\n",
    "total_sleep_mins = []\n",
    "deep_mins = []\n",
    "light_mins = []\n",
    "wake_mins = []\n",
    "rem_mins = []\n",
    "\n",
    "for d in all_dates:\n",
    "    \n",
    "    d = d.date().strftime(\"%Y-%m-%d\")\n",
    "    day_data = auth2_client.sleep(date=d)\n",
    "\n",
    "    if len(day_data['sleep']) == 0: \n",
    "        continue\n",
    "    elif not 'stages' in day_data['summary']:\n",
    "        continue\n",
    "\n",
    "    date.append(day_data['sleep'][0]['dateOfSleep'])\n",
    "    start_time.append(\n",
    "        datetime.datetime.strptime(day_data['sleep'][0]['startTime'], '%Y-%m-%dT%H:%M:%S.%f').time())\n",
    "    total_sleep_mins.append(day_data['sleep'][0]['minutesAsleep'])\n",
    "    deep_mins.append(day_data['summary']['stages']['deep'])\n",
    "    light_mins.append(day_data['summary']['stages']['light'])\n",
    "    wake_mins.append(day_data['summary']['stages']['wake'])\n",
    "    rem_mins.append(day_data['summary']['stages']['rem'])\n",
    "\n",
    "sleep_data = pd.DataFrame(\n",
    "    {\n",
    "        'date': date, \n",
    "        'start_time': start_time,\n",
    "        'total_sleep_mins': total_sleep_mins,\n",
    "        'deep_mins': deep_mins,\n",
    "        'light_mins': light_mins,\n",
    "        'wake_mins': wake_mins,\n",
    "        'rem_mins': rem_mins\n",
    "    })\n"
   ]
  },
  {
   "cell_type": "code",
   "execution_count": null,
   "metadata": {},
   "outputs": [],
   "source": [
    "summary_df.to_csv('data/sleep.csv', index=False)"
   ]
  },
  {
   "cell_type": "code",
   "execution_count": null,
   "metadata": {},
   "outputs": [],
   "source": [
    "sleep_data = pd.read_csv('data/sleep.csv')\n",
    "sleep_data.drop(columns=['efficiency'], inplace=True)"
   ]
  },
  {
   "cell_type": "code",
   "execution_count": null,
   "metadata": {},
   "outputs": [],
   "source": [
    "# I've been hand-recording some daily metrics, in particular my general mood and how well I felt I had slept\n",
    "general_data_source = pd.read_csv('data/daylio_export_2021_05_23.csv')\n",
    "\n",
    "def get_sleep_status(x):\n",
    "    sleep_status = 'unknown'\n",
    "    if \"good sleep\" in x:\n",
    "        sleep_status = 'good'\n",
    "    elif \"medium sleep\" in x:\n",
    "        sleep_status = 'medium'\n",
    "    elif \"bad sleep\" in x:\n",
    "        sleep_status = 'bad'\n",
    "    return sleep_status\n",
    "\n",
    "general_data = pd.DataFrame(\n",
    "    {\n",
    "        'date': general_data_source.full_date,\n",
    "        'sleep': general_data_source.activities.apply(lambda x: get_sleep_status(str(x))),\n",
    "        'mood': general_data_source.mood\n",
    "    }\n",
    ")\n"
   ]
  },
  {
   "cell_type": "code",
   "execution_count": null,
   "metadata": {},
   "outputs": [],
   "source": [
    "sleep_data = sleep_data.merge(general_data, on='date')"
   ]
  },
  {
   "cell_type": "code",
   "execution_count": null,
   "metadata": {},
   "outputs": [],
   "source": [
    "pd.crosstab(sleep_data.sleep, sleep_data.mood)"
   ]
  },
  {
   "cell_type": "code",
   "execution_count": null,
   "metadata": {},
   "outputs": [],
   "source": [
    "# Create some derived features\n",
    "\n",
    "# More than 7 hours sleep\n",
    "sleep_data['enough_sleep'] = sleep_data.total_sleep_mins > (7 * 60)\n",
    "# More than 45 mins deep sleep\n",
    "sleep_data['enough_deep_sleep'] = sleep_data.deep_mins > (45)\n",
    "# Awoken in the night (pesky kids!)\n",
    "sleep_data['rudely_awoken'] = sleep_data.wake_mins > (30)\n"
   ]
  },
  {
   "cell_type": "code",
   "execution_count": null,
   "metadata": {},
   "outputs": [],
   "source": [
    "pd.crosstab(sleep_data.sleep, sleep_data.enough_sleep)\n"
   ]
  },
  {
   "cell_type": "code",
   "execution_count": null,
   "metadata": {},
   "outputs": [],
   "source": [
    "pd.crosstab(sleep_data.sleep, sleep_data.enough_deep_sleep)"
   ]
  },
  {
   "cell_type": "code",
   "execution_count": null,
   "metadata": {},
   "outputs": [],
   "source": [
    "pd.crosstab(sleep_data.sleep, sleep_data.rudely_awoken)"
   ]
  },
  {
   "cell_type": "code",
   "execution_count": null,
   "metadata": {},
   "outputs": [],
   "source": [
    "# I've been hand recording my alcohol in-take\n",
    "drinks_data = pd.read_csv('data/less.csv')\n",
    "drinks_data = drinks_data.rename(columns = {'Date': 'date', ' Drink Count ': 'drinks'})\n",
    "# The previous days consumption is the relevant data for sleep\n",
    "drinks_data['date'] = drinks_data['date'].apply(lambda x: (datetime.datetime.strptime(x, '%Y-%m-%d') + datetime.timedelta(days=1)).strftime('%Y-%m-%d') )"
   ]
  },
  {
   "cell_type": "code",
   "execution_count": null,
   "metadata": {},
   "outputs": [],
   "source": [
    "sleep_data = sleep_data.merge(drinks_data, on='date')"
   ]
  },
  {
   "cell_type": "code",
   "execution_count": null,
   "metadata": {},
   "outputs": [],
   "source": [
    "def get_drink_cat(x):\n",
    "    status = 'no_drinks'\n",
    "    if x > 0 and x <= 2:\n",
    "        status = 'below_drinks_limit'\n",
    "    elif x > 3:\n",
    "        status = 'above_drinks_limit'\n",
    "    return status\n",
    "\n",
    "sleep_data['drink_status'] = sleep_data.drinks.apply(lambda x: get_drink_cat(x))"
   ]
  },
  {
   "cell_type": "code",
   "execution_count": null,
   "metadata": {},
   "outputs": [],
   "source": [
    "pd.crosstab(sleep_data.sleep, sleep_data.drink_status)"
   ]
  },
  {
   "cell_type": "code",
   "execution_count": null,
   "metadata": {},
   "outputs": [],
   "source": [
    "def get_bedtime_cat(x):\n",
    "    if x > datetime.time.fromisoformat('12:00:00') and x <= datetime.time.fromisoformat('22:30:00'):\n",
    "        status = 'early_to_bed'\n",
    "    elif x > datetime.time.fromisoformat('22:30:00') and x <= datetime.time.fromisoformat('23:59:00'):\n",
    "        status = 'ontime_to_bed'\n",
    "    else:\n",
    "        status = 'late_to_bed'\n",
    "    return status\n",
    "\n",
    "sleep_data['bedtime_status'] = sleep_data.start_time.apply(lambda x: get_bedtime_cat(datetime.time.fromisoformat(str(x))))"
   ]
  },
  {
   "cell_type": "code",
   "execution_count": null,
   "metadata": {},
   "outputs": [],
   "source": [
    "pd.crosstab(sleep_data.sleep, sleep_data.bedtime_status)"
   ]
  },
  {
   "cell_type": "code",
   "execution_count": null,
   "metadata": {},
   "outputs": [],
   "source": [
    "sleep_data['good_sleep'] = sleep_data.sleep == 'good'"
   ]
  },
  {
   "cell_type": "code",
   "execution_count": null,
   "metadata": {},
   "outputs": [],
   "source": [
    "sleep_data.drop(columns=['date', 'start_time', 'total_sleep_mins', 'deep_mins', 'light_mins', 'wake_mins', 'rem_mins', 'sleep', 'mood', 'drinks'], inplace=True)"
   ]
  },
  {
   "cell_type": "code",
   "execution_count": null,
   "metadata": {},
   "outputs": [],
   "source": [
    "bedtime_status_dummy = pd.get_dummies(sleep_data['bedtime_status'], drop_first=True)\n",
    "drink_status_dummy = pd.get_dummies(sleep_data['drink_status'], drop_first=True)"
   ]
  },
  {
   "cell_type": "code",
   "execution_count": null,
   "metadata": {},
   "outputs": [],
   "source": [
    "sleep_data = pd.concat([sleep_data, bedtime_status_dummy, drink_status_dummy], axis=1)"
   ]
  },
  {
   "cell_type": "code",
   "execution_count": null,
   "metadata": {},
   "outputs": [],
   "source": [
    "sleep_data.drop(['bedtime_status', 'drink_status'], axis=1, inplace=True)"
   ]
  },
  {
   "cell_type": "code",
   "execution_count": null,
   "metadata": {},
   "outputs": [],
   "source": [
    "from sklearn.model_selection import train_test_split\n",
    "X_train, X_test, y_train, y_test = train_test_split(sleep_data.drop('good_sleep',axis=1), \n",
    "                                                    sleep_data['good_sleep'], test_size=0.30, \n",
    "                                                    random_state=99)"
   ]
  },
  {
   "cell_type": "code",
   "execution_count": null,
   "metadata": {},
   "outputs": [],
   "source": [
    "import sklearn\n",
    "from sklearn.metrics import classification_report"
   ]
  },
  {
   "cell_type": "code",
   "execution_count": null,
   "metadata": {},
   "outputs": [],
   "source": [
    "from sklearn.linear_model import LogisticRegression\n",
    "model = LogisticRegression(penalty='l2')\n",
    "result = model.fit(X_train,y_train)\n",
    "predictions = model.predict(X_test)\n",
    "print(classification_report(y_test,predictions))"
   ]
  },
  {
   "cell_type": "code",
   "execution_count": null,
   "metadata": {},
   "outputs": [],
   "source": [
    "from sklearn.tree import DecisionTreeClassifier\n",
    "model = DecisionTreeClassifier(class_weight=\"balanced\")\n",
    "result = model.fit(X_train,y_train)\n",
    "predictions = model.predict(X_test)\n",
    "print(classification_report(y_test,predictions))"
   ]
  },
  {
   "cell_type": "code",
   "execution_count": null,
   "metadata": {},
   "outputs": [],
   "source": [
    "from sklearn.ensemble import RandomForestClassifier\n",
    "model = RandomForestClassifier(n_jobs=-1)\n",
    "result = model.fit(X_train,y_train)\n",
    "predictions = model.predict(X_test)\n",
    "print(classification_report(y_test,predictions))"
   ]
  }
 ]
}