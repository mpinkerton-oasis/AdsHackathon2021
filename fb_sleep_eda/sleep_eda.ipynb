{
 "metadata": {
  "language_info": {
   "codemirror_mode": {
    "name": "ipython",
    "version": 3
   },
   "file_extension": ".py",
   "mimetype": "text/x-python",
   "name": "python",
   "nbconvert_exporter": "python",
   "pygments_lexer": "ipython3",
   "version": "3.9.5"
  },
  "orig_nbformat": 2,
  "kernelspec": {
   "name": "python395jvsc74a57bd01ef85aefffd126bbafcdd59b545562a4a2b98bad151b8cb181c3eeee4e847cfd",
   "display_name": "Python 3.9.5 64-bit ('sleep_tracker': virtualenvwrapper)"
  },
  "metadata": {
   "interpreter": {
    "hash": "aee8b7b246df8f9039afb4144a1f6fd8d2ca17a180786b69acc140d282b71a49"
   }
  }
 },
 "nbformat": 4,
 "nbformat_minor": 2,
 "cells": [
  {
   "cell_type": "code",
   "execution_count": null,
   "metadata": {},
   "outputs": [],
   "source": [
    "print(__doc__)\n",
    "import matplotlib.pyplot as plt\n",
    "import numpy as np\n",
    "import fitbit\n",
    "import gather_keys_oauth2 as Oauth2\n",
    "import pandas as pd \n",
    "import datetime\n",
    "import os\n",
    "from scipy import stats\n",
    "\n",
    "CLIENT_ID = '239Z9F'\n",
    "CLIENT_SECRET = 'fcd469fed13e810f60d314919d9cc944'"
   ]
  },
  {
   "cell_type": "code",
   "execution_count": null,
   "metadata": {},
   "outputs": [],
   "source": [
    "server = Oauth2.OAuth2Server(CLIENT_ID, CLIENT_SECRET)\n",
    "server.browser_authorize()\n",
    "ACCESS_TOKEN = str(server.fitbit.client.session.token['access_token'])\n",
    "REFRESH_TOKEN = str(server.fitbit.client.session.token['refresh_token'])\n",
    "auth2_client = fitbit.Fitbit(CLIENT_ID, CLIENT_SECRET, oauth2=True, access_token=ACCESS_TOKEN, refresh_token=REFRESH_TOKEN)"
   ]
  },
  {
   "cell_type": "code",
   "execution_count": null,
   "metadata": {},
   "outputs": [],
   "source": [
    "# Pull down the sleep data for a specified date range. \n",
    "# Note that the FB API only allows up to 100 requests per hour!\n",
    "\n",
    "start_time = pd.datetime(year = 2020, month = 8, day = 1)\n",
    "end_time = pd.datetime(year = 2021, month = 5, day = 25)\n",
    "all_dates = pd.date_range(start=start_time, end = end_time)\n",
    "\n",
    "date = []\n",
    "duration = []\n",
    "start_time = []\n",
    "total_sleep_mins = []\n",
    "deep_mins = []\n",
    "light_mins = []\n",
    "wake_mins = []\n",
    "rem_mins = []\n",
    "\n",
    "for d in all_dates:\n",
    "    \n",
    "    d = d.date().strftime(\"%Y-%m-%d\")\n",
    "    day_data = auth2_client.sleep(date=d)\n",
    "\n",
    "    if len(day_data['sleep']) == 0: \n",
    "        continue\n",
    "    elif not 'stages' in day_data['summary']:\n",
    "        continue\n",
    "\n",
    "    date.append(day_data['sleep'][0]['dateOfSleep'])\n",
    "    start_time.append(\n",
    "        datetime.datetime.strptime(day_data['sleep'][0]['startTime'], '%Y-%m-%dT%H:%M:%S.%f').time())\n",
    "    total_sleep_mins.append(day_data['sleep'][0]['minutesAsleep'])\n",
    "    deep_mins.append(day_data['summary']['stages']['deep'])\n",
    "    light_mins.append(day_data['summary']['stages']['light'])\n",
    "    wake_mins.append(day_data['summary']['stages']['wake'])\n",
    "    rem_mins.append(day_data['summary']['stages']['rem'])\n",
    "\n",
    "sleep_data = pd.DataFrame(\n",
    "    {\n",
    "        'date': date, \n",
    "        'start_time': start_time,\n",
    "        'total_sleep_mins': total_sleep_mins,\n",
    "        'deep_mins': deep_mins,\n",
    "        'light_mins': light_mins,\n",
    "        'wake_mins': wake_mins,\n",
    "        'rem_mins': rem_mins\n",
    "    })\n"
   ]
  },
  {
   "cell_type": "code",
   "execution_count": null,
   "metadata": {},
   "outputs": [],
   "source": [
    "sleep_data.to_csv('data/sleep.csv', index=False)"
   ]
  },
  {
   "cell_type": "code",
   "execution_count": 683,
   "metadata": {},
   "outputs": [],
   "source": [
    "sleep_data = pd.read_csv('data/sleep.csv')"
   ]
  },
  {
   "cell_type": "code",
   "execution_count": 684,
   "metadata": {},
   "outputs": [],
   "source": [
    "# I've been hand-recording some daily metrics, in particular my general mood and how well I felt I had slept\n",
    "general_data_source = pd.read_csv('data/daylio_export_2021_05_23.csv')\n",
    "\n",
    "def get_sleep_status(x):\n",
    "    sleep_status = 'unknown'\n",
    "    if \"good sleep\" in x:\n",
    "        sleep_status = 'good'\n",
    "    elif \"medium sleep\" in x:\n",
    "        sleep_status = 'medium'\n",
    "    elif \"bad sleep\" in x:\n",
    "        sleep_status = 'bad'\n",
    "    return sleep_status\n",
    "\n",
    "general_data = pd.DataFrame(\n",
    "    {\n",
    "        'date': general_data_source.full_date,\n",
    "        'sleep': general_data_source.activities.apply(lambda x: get_sleep_status(str(x))),\n",
    "        'activities': general_data_source.activities,\n",
    "        'mood': general_data_source.mood\n",
    "    }\n",
    ")\n"
   ]
  },
  {
   "cell_type": "code",
   "execution_count": 685,
   "metadata": {},
   "outputs": [
    {
     "output_type": "execute_result",
     "data": {
      "text/plain": [
       "<AxesSubplot:ylabel='sleep'>"
      ]
     },
     "metadata": {},
     "execution_count": 685
    },
    {
     "output_type": "display_data",
     "data": {
      "text/plain": "<Figure size 432x288 with 1 Axes>",
      "image/svg+xml": "<?xml version=\"1.0\" encoding=\"utf-8\" standalone=\"no\"?>\n<!DOCTYPE svg PUBLIC \"-//W3C//DTD SVG 1.1//EN\"\n  \"http://www.w3.org/Graphics/SVG/1.1/DTD/svg11.dtd\">\n<svg height=\"231.84pt\" version=\"1.1\" viewBox=\"0 0 277.266644 231.84\" width=\"277.266644pt\" xmlns=\"http://www.w3.org/2000/svg\" xmlns:xlink=\"http://www.w3.org/1999/xlink\">\n <metadata>\n  <rdf:RDF xmlns:cc=\"http://creativecommons.org/ns#\" xmlns:dc=\"http://purl.org/dc/elements/1.1/\" xmlns:rdf=\"http://www.w3.org/1999/02/22-rdf-syntax-ns#\">\n   <cc:Work>\n    <dc:type rdf:resource=\"http://purl.org/dc/dcmitype/StillImage\"/>\n    <dc:date>2021-05-27T13:01:43.576102</dc:date>\n    <dc:format>image/svg+xml</dc:format>\n    <dc:creator>\n     <cc:Agent>\n      <dc:title>Matplotlib v3.4.2, https://matplotlib.org/</dc:title>\n     </cc:Agent>\n    </dc:creator>\n   </cc:Work>\n  </rdf:RDF>\n </metadata>\n <defs>\n  <style type=\"text/css\">*{stroke-linecap:butt;stroke-linejoin:round;}</style>\n </defs>\n <g id=\"figure_1\">\n  <g id=\"patch_1\">\n   <path d=\"M 0 231.84 \nL 277.266644 231.84 \nL 277.266644 0 \nL 0 0 \nz\n\" style=\"fill:none;\"/>\n  </g>\n  <g id=\"axes_1\">\n   <g id=\"patch_2\">\n    <path d=\"M 216.574125 115.92 \nC 216.574125 93.019905 207.530004 71.021657 191.422771 54.743716 \nC 175.315537 38.465774 153.413855 29.190248 130.515033 28.948833 \nC 107.616211 28.707418 85.523841 37.51913 69.077001 53.453864 \nC 52.63016 69.388599 43.12426 91.191281 42.641457 114.086285 \nL 129.598125 115.92 \nL 216.574125 115.92 \nz\n\" style=\"fill:#1f77b4;\"/>\n   </g>\n   <g id=\"patch_3\">\n    <path d=\"M 42.641457 114.086285 \nC 42.304294 130.074896 46.383282 145.850985 54.427984 159.672422 \nC 62.472685 173.493859 74.175663 184.832441 88.244573 192.436066 \nC 102.313484 200.03969 118.210667 203.617775 134.18062 202.775197 \nC 150.150574 201.93262 165.582986 196.70158 178.773679 187.659734 \nL 129.598125 115.92 \nL 42.641457 114.086285 \nz\n\" style=\"fill:#ff7f0e;\"/>\n   </g>\n   <g id=\"patch_4\">\n    <path d=\"M 178.773679 187.659734 \nC 187.622115 181.594382 195.272511 173.943985 201.337863 165.095549 \nC 207.403214 156.247112 211.779491 146.352399 214.245314 135.911948 \nL 129.598125 115.92 \nL 178.773679 187.659734 \nz\n\" style=\"fill:#2ca02c;\"/>\n   </g>\n   <g id=\"patch_5\">\n    <path d=\"M 214.245314 135.911948 \nC 215.018318 132.638999 215.600845 129.32397 215.989961 125.983564 \nC 216.379076 122.643157 216.574125 119.282992 216.574125 115.919998 \nL 129.598125 115.92 \nL 214.245314 135.911948 \nz\n\" style=\"fill:#d62728;\"/>\n   </g>\n   <g id=\"matplotlib.axis_1\"/>\n   <g id=\"matplotlib.axis_2\">\n    <g id=\"text_1\">\n     <!-- sleep -->\n     <g transform=\"translate(14.798437 129.241094)rotate(-90)scale(0.1 -0.1)\">\n      <defs>\n       <path d=\"M 2834 3397 \nL 2834 2853 \nQ 2591 2978 2328 3040 \nQ 2066 3103 1784 3103 \nQ 1356 3103 1142 2972 \nQ 928 2841 928 2578 \nQ 928 2378 1081 2264 \nQ 1234 2150 1697 2047 \nL 1894 2003 \nQ 2506 1872 2764 1633 \nQ 3022 1394 3022 966 \nQ 3022 478 2636 193 \nQ 2250 -91 1575 -91 \nQ 1294 -91 989 -36 \nQ 684 19 347 128 \nL 347 722 \nQ 666 556 975 473 \nQ 1284 391 1588 391 \nQ 1994 391 2212 530 \nQ 2431 669 2431 922 \nQ 2431 1156 2273 1281 \nQ 2116 1406 1581 1522 \nL 1381 1569 \nQ 847 1681 609 1914 \nQ 372 2147 372 2553 \nQ 372 3047 722 3315 \nQ 1072 3584 1716 3584 \nQ 2034 3584 2315 3537 \nQ 2597 3491 2834 3397 \nz\n\" id=\"DejaVuSans-73\" transform=\"scale(0.015625)\"/>\n       <path d=\"M 603 4863 \nL 1178 4863 \nL 1178 0 \nL 603 0 \nL 603 4863 \nz\n\" id=\"DejaVuSans-6c\" transform=\"scale(0.015625)\"/>\n       <path d=\"M 3597 1894 \nL 3597 1613 \nL 953 1613 \nQ 991 1019 1311 708 \nQ 1631 397 2203 397 \nQ 2534 397 2845 478 \nQ 3156 559 3463 722 \nL 3463 178 \nQ 3153 47 2828 -22 \nQ 2503 -91 2169 -91 \nQ 1331 -91 842 396 \nQ 353 884 353 1716 \nQ 353 2575 817 3079 \nQ 1281 3584 2069 3584 \nQ 2775 3584 3186 3129 \nQ 3597 2675 3597 1894 \nz\nM 3022 2063 \nQ 3016 2534 2758 2815 \nQ 2500 3097 2075 3097 \nQ 1594 3097 1305 2825 \nQ 1016 2553 972 2059 \nL 3022 2063 \nz\n\" id=\"DejaVuSans-65\" transform=\"scale(0.015625)\"/>\n       <path d=\"M 1159 525 \nL 1159 -1331 \nL 581 -1331 \nL 581 3500 \nL 1159 3500 \nL 1159 2969 \nQ 1341 3281 1617 3432 \nQ 1894 3584 2278 3584 \nQ 2916 3584 3314 3078 \nQ 3713 2572 3713 1747 \nQ 3713 922 3314 415 \nQ 2916 -91 2278 -91 \nQ 1894 -91 1617 61 \nQ 1341 213 1159 525 \nz\nM 3116 1747 \nQ 3116 2381 2855 2742 \nQ 2594 3103 2138 3103 \nQ 1681 3103 1420 2742 \nQ 1159 2381 1159 1747 \nQ 1159 1113 1420 752 \nQ 1681 391 2138 391 \nQ 2594 391 2855 752 \nQ 3116 1113 3116 1747 \nz\n\" id=\"DejaVuSans-70\" transform=\"scale(0.015625)\"/>\n      </defs>\n      <use xlink:href=\"#DejaVuSans-73\"/>\n      <use x=\"52.099609\" xlink:href=\"#DejaVuSans-6c\"/>\n      <use x=\"79.882812\" xlink:href=\"#DejaVuSans-65\"/>\n      <use x=\"141.40625\" xlink:href=\"#DejaVuSans-65\"/>\n      <use x=\"202.929688\" xlink:href=\"#DejaVuSans-70\"/>\n     </g>\n    </g>\n   </g>\n   <g id=\"text_2\">\n    <!-- medium -->\n    <g transform=\"translate(130.606724 23.011092)scale(0.1 -0.1)\">\n     <defs>\n      <path d=\"M 3328 2828 \nQ 3544 3216 3844 3400 \nQ 4144 3584 4550 3584 \nQ 5097 3584 5394 3201 \nQ 5691 2819 5691 2113 \nL 5691 0 \nL 5113 0 \nL 5113 2094 \nQ 5113 2597 4934 2840 \nQ 4756 3084 4391 3084 \nQ 3944 3084 3684 2787 \nQ 3425 2491 3425 1978 \nL 3425 0 \nL 2847 0 \nL 2847 2094 \nQ 2847 2600 2669 2842 \nQ 2491 3084 2119 3084 \nQ 1678 3084 1418 2786 \nQ 1159 2488 1159 1978 \nL 1159 0 \nL 581 0 \nL 581 3500 \nL 1159 3500 \nL 1159 2956 \nQ 1356 3278 1631 3431 \nQ 1906 3584 2284 3584 \nQ 2666 3584 2933 3390 \nQ 3200 3197 3328 2828 \nz\n\" id=\"DejaVuSans-6d\" transform=\"scale(0.015625)\"/>\n      <path d=\"M 2906 2969 \nL 2906 4863 \nL 3481 4863 \nL 3481 0 \nL 2906 0 \nL 2906 525 \nQ 2725 213 2448 61 \nQ 2172 -91 1784 -91 \nQ 1150 -91 751 415 \nQ 353 922 353 1747 \nQ 353 2572 751 3078 \nQ 1150 3584 1784 3584 \nQ 2172 3584 2448 3432 \nQ 2725 3281 2906 2969 \nz\nM 947 1747 \nQ 947 1113 1208 752 \nQ 1469 391 1925 391 \nQ 2381 391 2643 752 \nQ 2906 1113 2906 1747 \nQ 2906 2381 2643 2742 \nQ 2381 3103 1925 3103 \nQ 1469 3103 1208 2742 \nQ 947 2381 947 1747 \nz\n\" id=\"DejaVuSans-64\" transform=\"scale(0.015625)\"/>\n      <path d=\"M 603 3500 \nL 1178 3500 \nL 1178 0 \nL 603 0 \nL 603 3500 \nz\nM 603 4863 \nL 1178 4863 \nL 1178 4134 \nL 603 4134 \nL 603 4863 \nz\n\" id=\"DejaVuSans-69\" transform=\"scale(0.015625)\"/>\n      <path d=\"M 544 1381 \nL 544 3500 \nL 1119 3500 \nL 1119 1403 \nQ 1119 906 1312 657 \nQ 1506 409 1894 409 \nQ 2359 409 2629 706 \nQ 2900 1003 2900 1516 \nL 2900 3500 \nL 3475 3500 \nL 3475 0 \nL 2900 0 \nL 2900 538 \nQ 2691 219 2414 64 \nQ 2138 -91 1772 -91 \nQ 1169 -91 856 284 \nQ 544 659 544 1381 \nz\nM 1991 3584 \nL 1991 3584 \nz\n\" id=\"DejaVuSans-75\" transform=\"scale(0.015625)\"/>\n     </defs>\n     <use xlink:href=\"#DejaVuSans-6d\"/>\n     <use x=\"97.412109\" xlink:href=\"#DejaVuSans-65\"/>\n     <use x=\"158.935547\" xlink:href=\"#DejaVuSans-64\"/>\n     <use x=\"222.412109\" xlink:href=\"#DejaVuSans-69\"/>\n     <use x=\"250.195312\" xlink:href=\"#DejaVuSans-75\"/>\n     <use x=\"313.574219\" xlink:href=\"#DejaVuSans-6d\"/>\n    </g>\n   </g>\n   <g id=\"text_3\">\n    <!-- good -->\n    <g transform=\"translate(59.174843 202.847047)scale(0.1 -0.1)\">\n     <defs>\n      <path d=\"M 2906 1791 \nQ 2906 2416 2648 2759 \nQ 2391 3103 1925 3103 \nQ 1463 3103 1205 2759 \nQ 947 2416 947 1791 \nQ 947 1169 1205 825 \nQ 1463 481 1925 481 \nQ 2391 481 2648 825 \nQ 2906 1169 2906 1791 \nz\nM 3481 434 \nQ 3481 -459 3084 -895 \nQ 2688 -1331 1869 -1331 \nQ 1566 -1331 1297 -1286 \nQ 1028 -1241 775 -1147 \nL 775 -588 \nQ 1028 -725 1275 -790 \nQ 1522 -856 1778 -856 \nQ 2344 -856 2625 -561 \nQ 2906 -266 2906 331 \nL 2906 616 \nQ 2728 306 2450 153 \nQ 2172 0 1784 0 \nQ 1141 0 747 490 \nQ 353 981 353 1791 \nQ 353 2603 747 3093 \nQ 1141 3584 1784 3584 \nQ 2172 3584 2450 3431 \nQ 2728 3278 2906 2969 \nL 2906 3500 \nL 3481 3500 \nL 3481 434 \nz\n\" id=\"DejaVuSans-67\" transform=\"scale(0.015625)\"/>\n      <path d=\"M 1959 3097 \nQ 1497 3097 1228 2736 \nQ 959 2375 959 1747 \nQ 959 1119 1226 758 \nQ 1494 397 1959 397 \nQ 2419 397 2687 759 \nQ 2956 1122 2956 1747 \nQ 2956 2369 2687 2733 \nQ 2419 3097 1959 3097 \nz\nM 1959 3584 \nQ 2709 3584 3137 3096 \nQ 3566 2609 3566 1747 \nQ 3566 888 3137 398 \nQ 2709 -91 1959 -91 \nQ 1206 -91 779 398 \nQ 353 888 353 1747 \nQ 353 2609 779 3096 \nQ 1206 3584 1959 3584 \nz\n\" id=\"DejaVuSans-6f\" transform=\"scale(0.015625)\"/>\n     </defs>\n     <use xlink:href=\"#DejaVuSans-67\"/>\n     <use x=\"63.476562\" xlink:href=\"#DejaVuSans-6f\"/>\n     <use x=\"124.658203\" xlink:href=\"#DejaVuSans-6f\"/>\n     <use x=\"185.839844\" xlink:href=\"#DejaVuSans-64\"/>\n    </g>\n   </g>\n   <g id=\"text_4\">\n    <!-- bad -->\n    <g transform=\"translate(208.511837 172.772479)scale(0.1 -0.1)\">\n     <defs>\n      <path d=\"M 3116 1747 \nQ 3116 2381 2855 2742 \nQ 2594 3103 2138 3103 \nQ 1681 3103 1420 2742 \nQ 1159 2381 1159 1747 \nQ 1159 1113 1420 752 \nQ 1681 391 2138 391 \nQ 2594 391 2855 752 \nQ 3116 1113 3116 1747 \nz\nM 1159 2969 \nQ 1341 3281 1617 3432 \nQ 1894 3584 2278 3584 \nQ 2916 3584 3314 3078 \nQ 3713 2572 3713 1747 \nQ 3713 922 3314 415 \nQ 2916 -91 2278 -91 \nQ 1894 -91 1617 61 \nQ 1341 213 1159 525 \nL 1159 0 \nL 581 0 \nL 581 4863 \nL 1159 4863 \nL 1159 2969 \nz\n\" id=\"DejaVuSans-62\" transform=\"scale(0.015625)\"/>\n      <path d=\"M 2194 1759 \nQ 1497 1759 1228 1600 \nQ 959 1441 959 1056 \nQ 959 750 1161 570 \nQ 1363 391 1709 391 \nQ 2188 391 2477 730 \nQ 2766 1069 2766 1631 \nL 2766 1759 \nL 2194 1759 \nz\nM 3341 1997 \nL 3341 0 \nL 2766 0 \nL 2766 531 \nQ 2569 213 2275 61 \nQ 1981 -91 1556 -91 \nQ 1019 -91 701 211 \nQ 384 513 384 1019 \nQ 384 1609 779 1909 \nQ 1175 2209 1959 2209 \nL 2766 2209 \nL 2766 2266 \nQ 2766 2663 2505 2880 \nQ 2244 3097 1772 3097 \nQ 1472 3097 1187 3025 \nQ 903 2953 641 2809 \nL 641 3341 \nQ 956 3463 1253 3523 \nQ 1550 3584 1831 3584 \nQ 2591 3584 2966 3190 \nQ 3341 2797 3341 1997 \nz\n\" id=\"DejaVuSans-61\" transform=\"scale(0.015625)\"/>\n     </defs>\n     <use xlink:href=\"#DejaVuSans-62\"/>\n     <use x=\"63.476562\" xlink:href=\"#DejaVuSans-61\"/>\n     <use x=\"124.755859\" xlink:href=\"#DejaVuSans-64\"/>\n    </g>\n   </g>\n   <g id=\"text_5\">\n    <!-- unknown -->\n    <g transform=\"translate(224.629144 129.749295)scale(0.1 -0.1)\">\n     <defs>\n      <path d=\"M 3513 2113 \nL 3513 0 \nL 2938 0 \nL 2938 2094 \nQ 2938 2591 2744 2837 \nQ 2550 3084 2163 3084 \nQ 1697 3084 1428 2787 \nQ 1159 2491 1159 1978 \nL 1159 0 \nL 581 0 \nL 581 3500 \nL 1159 3500 \nL 1159 2956 \nQ 1366 3272 1645 3428 \nQ 1925 3584 2291 3584 \nQ 2894 3584 3203 3211 \nQ 3513 2838 3513 2113 \nz\n\" id=\"DejaVuSans-6e\" transform=\"scale(0.015625)\"/>\n      <path d=\"M 581 4863 \nL 1159 4863 \nL 1159 1991 \nL 2875 3500 \nL 3609 3500 \nL 1753 1863 \nL 3688 0 \nL 2938 0 \nL 1159 1709 \nL 1159 0 \nL 581 0 \nL 581 4863 \nz\n\" id=\"DejaVuSans-6b\" transform=\"scale(0.015625)\"/>\n      <path d=\"M 269 3500 \nL 844 3500 \nL 1563 769 \nL 2278 3500 \nL 2956 3500 \nL 3675 769 \nL 4391 3500 \nL 4966 3500 \nL 4050 0 \nL 3372 0 \nL 2619 2869 \nL 1863 0 \nL 1184 0 \nL 269 3500 \nz\n\" id=\"DejaVuSans-77\" transform=\"scale(0.015625)\"/>\n     </defs>\n     <use xlink:href=\"#DejaVuSans-75\"/>\n     <use x=\"63.378906\" xlink:href=\"#DejaVuSans-6e\"/>\n     <use x=\"126.757812\" xlink:href=\"#DejaVuSans-6b\"/>\n     <use x=\"184.667969\" xlink:href=\"#DejaVuSans-6e\"/>\n     <use x=\"248.046875\" xlink:href=\"#DejaVuSans-6f\"/>\n     <use x=\"309.228516\" xlink:href=\"#DejaVuSans-77\"/>\n     <use x=\"391.015625\" xlink:href=\"#DejaVuSans-6e\"/>\n    </g>\n   </g>\n  </g>\n </g>\n</svg>\n",
      "image/png": "[encoded data removed]"
     },
     "metadata": {}
    }
   ],
   "source": [
    "general_data['sleep'].value_counts().plot(kind='pie')"
   ]
  },
  {
   "cell_type": "code",
   "execution_count": 686,
   "metadata": {},
   "outputs": [],
   "source": [
    "run_day_before = pd.DataFrame(\n",
    "    {\n",
    "        'run_day_before': general_data_source.activities.apply(lambda x: 'run' in str(x)),\n",
    "        'date': general_data.date.apply(lambda x: (datetime.datetime.strptime(x, '%Y-%m-%d') + datetime.timedelta(days=1)).strftime('%Y-%m-%d') )\n",
    "    })\n",
    "general_data = general_data.merge(run_day_before, on='date')"
   ]
  },
  {
   "cell_type": "code",
   "execution_count": 687,
   "metadata": {},
   "outputs": [],
   "source": [
    "sleep_data = sleep_data.merge(general_data, on='date')"
   ]
  },
  {
   "cell_type": "code",
   "execution_count": 688,
   "metadata": {},
   "outputs": [
    {
     "output_type": "execute_result",
     "data": {
      "text/plain": [
       "mood     bad  good  meh  ok\n",
       "sleep                      \n",
       "bad        2     0   10   6\n",
       "good       0    13    1  63\n",
       "medium     2     1    6  80\n",
       "unknown    0     0    0   2"
      ],
      "text/html": "<div>\n<style scoped>\n    .dataframe tbody tr th:only-of-type {\n        vertical-align: middle;\n    }\n\n    .dataframe tbody tr th {\n        vertical-align: top;\n    }\n\n    .dataframe thead th {\n        text-align: right;\n    }\n</style>\n<table border=\"1\" class=\"dataframe\">\n  <thead>\n    <tr style=\"text-align: right;\">\n      <th>mood</th>\n      <th>bad</th>\n      <th>good</th>\n      <th>meh</th>\n      <th>ok</th>\n    </tr>\n    <tr>\n      <th>sleep</th>\n      <th></th>\n      <th></th>\n      <th></th>\n      <th></th>\n    </tr>\n  </thead>\n  <tbody>\n    <tr>\n      <th>bad</th>\n      <td>2</td>\n      <td>0</td>\n      <td>10</td>\n      <td>6</td>\n    </tr>\n    <tr>\n      <th>good</th>\n      <td>0</td>\n      <td>13</td>\n      <td>1</td>\n      <td>63</td>\n    </tr>\n    <tr>\n      <th>medium</th>\n      <td>2</td>\n      <td>1</td>\n      <td>6</td>\n      <td>80</td>\n    </tr>\n    <tr>\n      <th>unknown</th>\n      <td>0</td>\n      <td>0</td>\n      <td>0</td>\n      <td>2</td>\n    </tr>\n  </tbody>\n</table>\n</div>"
     },
     "metadata": {},
     "execution_count": 688
    }
   ],
   "source": [
    "sleep_mood_crosstab = pd.crosstab(sleep_data.sleep, sleep_data.mood)\n",
    "sleep_mood_crosstab"
   ]
  },
  {
   "cell_type": "code",
   "execution_count": 689,
   "metadata": {},
   "outputs": [],
   "source": [
    "def chi2_table(series1, series2, to_csv = False, csv_name = None, \n",
    "                prop= False):\n",
    "    \n",
    "    if type(series1) != list:\n",
    "        crosstab = pd.crosstab(series1, series2)\n",
    "        crosstab2 = pd.crosstab(series1, series2, margins= True)\n",
    "        crosstab_proprow = round(crosstab2.div(crosstab2.iloc[:,-1], axis=0).mul(100, axis=0), 2)\n",
    "        crosstab_propcol = round(crosstab2.div(crosstab2.iloc[-1,:], axis=1).mul(100, axis=1), 2)\n",
    "        chi2, p, dof, expected = stats.chi2_contingency(crosstab)\n",
    "        \n",
    "        if prop == False:\n",
    "            print(\"\\n\",\n",
    "          f\"Chi-Square test between \" + series1.name + \" and \" + series2.name,\n",
    "          \"\\n\", \"\\n\",\n",
    "          crosstab2,\n",
    "          \"\\n\", \"\\n\",\n",
    "          f\"Pearson Chi2({dof})= {chi2:.4f} p-value= {p:.4f}\")\n",
    "            \n",
    "            if to_csv == True:\n",
    "                if csv_name == None:\n",
    "                    csv_name = f\"{series2.name}.csv\"\n",
    "                                             \n",
    "                file = open(csv_name, 'a')\n",
    "                file.write(f\"{crosstab2.columns.name}\\n\")\n",
    "                file.close()\n",
    "                crosstab2.to_csv(csv_name, header= True, mode= 'a')\n",
    "                file = open(csv_name, 'a')\n",
    "                file.write(f\"Pearson Chi2({dof})= {chi2:.4f} p-value= {p:.4f}\")\n",
    "                file.write(\"\\n\")\n",
    "                file.close()              \n",
    "                \n",
    "        if prop == 'Row':\n",
    "            print(\"\\n\",\n",
    "          f\"Chi-Square test between \" + series1.name + \" and \" + series2.name,\n",
    "          \"\\n\", \"\\n\",\n",
    "          crosstab_proprow,\n",
    "          \"\\n\", \"\\n\",\n",
    "          f\"Pearson Chi2({dof})= {chi2:.4f} p-value= {p:.4f}\")\n",
    "            \n",
    "            if to_csv == True:\n",
    "                if csv_name == None:\n",
    "                    csv_name = f\"{series2.name}.csv\"\n",
    "                \n",
    "                file = open(csv_name, 'a')\n",
    "                file.write(f\"{crosstab_proprow.columns.name}\\n\")\n",
    "                file.close()\n",
    "                crosstab_proprow.to_csv(csv_name, header= True, mode= 'a')\n",
    "                file = open(csv_name, 'a')\n",
    "                file.write(f\"Pearson Chi2({dof})= {chi2:.4f} p-value= {p:.4f}\")\n",
    "                file.write(\"\\n\")\n",
    "                file.close()\n",
    "\n",
    "        if prop == 'Col':\n",
    "            print(\"\\n\",\n",
    "          f\"Chi-Square test between \" + series1.name + \" and \" + series2.name,\n",
    "          \"\\n\", \"\\n\",\n",
    "          crosstab_propcol,\n",
    "          \"\\n\", \"\\n\",\n",
    "          f\"Pearson Chi2({dof})= {chi2:.4f} p-value= {p:.4f}\")\n",
    "\n",
    "            if to_csv == True:\n",
    "                if csv_name == None:\n",
    "                    csv_name = f\"{series2.name}.csv\"\n",
    "                    \n",
    "                file = open(csv_name, 'a')\n",
    "                file.write(f\"{crosstab_propcol.columns.name}\\n\")\n",
    "                file.close()\n",
    "                crosstab_propcol.to_csv(csv_name, header= True, mode= 'a')\n",
    "                file = open(csv_name, 'a')\n",
    "                file.write(f\"Pearson Chi2({dof})= {chi2:.4f} p-value= {p:.4f}\")\n",
    "                file.write(\"\\n\")\n",
    "                file.close()\n",
    "\n",
    "    elif type(series1) == list and type(series2) == list:\n",
    "        for entry2 in series2:\n",
    "            for entry1 in series1:\n",
    "                crosstab = pd.crosstab(entry1, entry2)\n",
    "                crosstab2 = pd.crosstab(entry1, entry2, margins= True)\n",
    "                crosstab_proprow = round(crosstab2.div(crosstab2.iloc[:,-1], axis=0).mul(100, axis=0), 2)\n",
    "                crosstab_propcol = round(crosstab2.div(crosstab2.iloc[-1,:], axis=1).mul(100, axis=1), 2)\n",
    "                chi2, p, dof, expected = stats.chi2_contingency(crosstab)\n",
    "                \n",
    "                if prop == False:\n",
    "            \n",
    "                    print(\"\\n\",\n",
    "          f\"Chi-Square test between \" + entry1.name + \" and \" + entry2.name,\n",
    "          \"\\n\", \"\\n\",\n",
    "          crosstab2,\n",
    "          \"\\n\", \"\\n\",\n",
    "          f\"Pearson Chi2({dof})= {chi2:.4f} p-value= {p:.4f}\")\n",
    "            \n",
    "                    if to_csv == True:\n",
    "                        \n",
    "                        file = open(\"%s.csv\" %(entry2.name), 'a')\n",
    "                        file.write(f\"{crosstab2.columns.name}\\n\")\n",
    "                        file.close()\n",
    "                        crosstab2.to_csv(\"%s.csv\" %(entry2.name), header= True, mode= 'a')\n",
    "                        file = open(\"%s.csv\" %(entry2.name), 'a')\n",
    "                        file.write(f\"Pearson Chi2({dof})= {chi2:.4f} p-value= {p:.4f}\")\n",
    "                        file.write(\"\\n\")\n",
    "                        file.close()                        \n",
    "\n",
    "                if prop == 'Row':\n",
    "            \n",
    "                    print(\"\\n\",\n",
    "          f\"Chi-Square test between \" + entry1.name + \" and \" + entry2.name,\n",
    "          \"\\n\", \"\\n\",\n",
    "          crosstab_proprow,\n",
    "          \"\\n\", \"\\n\",\n",
    "          f\"Pearson Chi2({dof})= {chi2:.4f} p-value= {p:.4f}\")\n",
    "            \n",
    "                    if to_csv == True:\n",
    "                        file = open(\"%s.csv\" %(entry2.name), 'a')\n",
    "                        file.write(f\"{crosstab_proprow.columns.name}\\n\")\n",
    "                        file.close()\n",
    "                        crosstab_proprow.to_csv(\"%s.csv\" %(entry2.name), header= True, mode= 'a')\n",
    "                        file = open(\"%s.csv\" %(entry2.name), 'a')\n",
    "                        file.write(f\"Pearson Chi2({dof})= {chi2:.4f} p-value= {p:.4f}\")\n",
    "                        file.write(\"\\n\")\n",
    "                        file.close()\n",
    "                    \n",
    "                if prop == 'Col':\n",
    "            \n",
    "                    print(\"\\n\",\n",
    "          f\"Chi-Square test between \" + entry1.name + \" and \" + entry2.name,\n",
    "          \"\\n\", \"\\n\",\n",
    "          crosstab_propcol,\n",
    "          \"\\n\", \"\\n\",\n",
    "          f\"Pearson Chi2({dof})= {chi2:.4f} p-value= {p:.4f}\")\n",
    "            \n",
    "                    if to_csv == True:\n",
    "                        file = open(\"%s.csv\" %(entry2.name), 'a')\n",
    "                        file.write(f\"{crosstab_propcol.columns.name}\\n\")\n",
    "                        file.close()\n",
    "                        crosstab_propcol.to_csv(\"%s.csv\" %(entry2.name), header= True, mode= 'a')\n",
    "                        file = open(\"%s.csv\" %(entry2.name), 'a')\n",
    "                        file.write(f\"Pearson Chi2({dof})= {chi2:.4f} p-value= {p:.4f}\")\n",
    "                        file.write(\"\\n\")\n",
    "                        file.close()\n",
    "\n",
    "\n",
    "    elif type(series1) == list:\n",
    "        for entry in series1:\n",
    "            crosstab = pd.crosstab(entry, series2)\n",
    "            crosstab2 = pd.crosstab(entry, series2, margins= True)\n",
    "            crosstab_proprow = round(crosstab2.div(crosstab2.iloc[:,-1], axis=0).mul(100, axis=0), 2)\n",
    "            crosstab_propcol = round(crosstab2.div(crosstab2.iloc[-1,:], axis=1).mul(100, axis=1), 2)\n",
    "            chi2, p, dof, expected = stats.chi2_contingency(crosstab)\n",
    "            \n",
    "            if prop == False:\n",
    "                print(\"\\n\",\n",
    "          f\"Chi-Square test between \" + entry.name + \" and \" + series2.name,\n",
    "          \"\\n\", \"\\n\",\n",
    "          crosstab2,\n",
    "          \"\\n\", \"\\n\",\n",
    "          f\"Pearson Chi2({dof})= {chi2:.4f} p-value= {p:.4f}\")\n",
    "            \n",
    "                if to_csv == True:\n",
    "                    file = open(\"%s.csv\" %(series2.name), 'a')\n",
    "                    file.write(f\"{crosstab2.columns.name}\\n\")\n",
    "                    file.close()\n",
    "                    crosstab2.to_csv(\"%s.csv\" %(series2.name), header= True, mode= 'a')\n",
    "                    file = open(\"%s.csv\" %(series2.name), 'a')\n",
    "                    file.write(f\"Pearson Chi2({dof})= {chi2:.4f} p-value= {p:.4f}\")\n",
    "                    file.write(\"\\n\")\n",
    "                    file.close()\n",
    "\n",
    "            if prop == 'Row':\n",
    "                print(\"\\n\",\n",
    "          f\"Chi-Square test between \" + entry.name + \" and \" + series2.name,\n",
    "          \"\\n\", \"\\n\",\n",
    "          crosstab_proprow,\n",
    "          \"\\n\", \"\\n\",\n",
    "          f\"Pearson Chi2({dof})= {chi2:.4f} p-value= {p:.4f}\")\n",
    "            \n",
    "                if to_csv == True:\n",
    "                    file = open(\"%s.csv\" %(series2.name), 'a')\n",
    "                    file.write(f\"{crosstab_proprow.columns.name}\\n\")\n",
    "                    file.close()\n",
    "                    crosstab_proprow.to_csv(\"%s.csv\" %(series2.name), header= True, mode= 'a')\n",
    "                    file = open(\"%s.csv\" %(series2.name), 'a')\n",
    "                    file.write(f\"Pearson Chi2({dof})= {chi2:.4f} p-value= {p:.4f}\")\n",
    "                    file.write(\"\\n\")\n",
    "                    file.close()\n",
    "\n",
    "            if prop == 'Col':\n",
    "                print(\"\\n\",\n",
    "          f\"Chi-Square test between \" + entry.name + \" and \" + series2.name,\n",
    "          \"\\n\", \"\\n\",\n",
    "          crosstab_propcol,\n",
    "          \"\\n\", \"\\n\",\n",
    "          f\"Pearson Chi2({dof})= {chi2:.4f} p-value= {p:.4f}\")\n",
    "            \n",
    "                if to_csv == True:\n",
    "                    file = open(\"%s.csv\" %(series2.name), 'a')\n",
    "                    file.write(f\"{crosstab_propcol.columns.name}\\n\")\n",
    "                    file.close()\n",
    "                    crosstab_propcol.to_csv(\"%s.csv\" %(series2.name), header= True, mode= 'a')\n",
    "                    file = open(\"%s.csv\" %(series2.name), 'a')\n",
    "                    file.write(f\"Pearson Chi2({dof})= {chi2:.4f} p-value= {p:.4f}\")\n",
    "                    file.write(\"\\n\")\n",
    "                    file.close()"
   ]
  },
  {
   "cell_type": "code",
   "execution_count": 690,
   "metadata": {},
   "outputs": [
    {
     "output_type": "stream",
     "name": "stdout",
     "text": [
      "\n Chi-Square test between sleep and mood \n \n mood     False  True  All\nsleep                    \nbad         33     0   33\ngood        78    20   98\nmedium     129     9  138\nunknown      7     0    7\nAll        247    29  276 \n \n Pearson Chi2(3)= 17.2440 p-value= 0.0006\n"
     ]
    }
   ],
   "source": [
    "chi2_table(general_data.sleep, general_data.mood == 'good')"
   ]
  },
  {
   "cell_type": "code",
   "execution_count": 691,
   "metadata": {},
   "outputs": [
    {
     "output_type": "stream",
     "name": "stdout",
     "text": [
      "\n Chi-Square test between good_sleep and good_mood \n \n good_mood   False  True  All\ngood_sleep                  \nFalse         169     9  178\nTrue           78    20   98\nAll           247    29  276 \n \n Pearson Chi2(1)= 14.2507 p-value= 0.0002\n"
     ]
    }
   ],
   "source": [
    "sleep_mood = pd.DataFrame({'good_sleep': general_data.sleep == 'good', 'good_mood': general_data.mood == 'good'})\n",
    "chi2_table(sleep_mood.good_sleep, sleep_mood.good_mood)"
   ]
  },
  {
   "cell_type": "code",
   "execution_count": 692,
   "metadata": {},
   "outputs": [
    {
     "output_type": "stream",
     "name": "stdout",
     "text": [
      "\n Chi-Square test between bad_sleep and bad_mood \n \n bad_mood   False  True  All\nbad_sleep                  \nFalse        235     8  243\nTrue          29     4   33\nAll          264    12  276 \n \n Pearson Chi2(1)= 3.5298 p-value= 0.0603\n"
     ]
    }
   ],
   "source": [
    "sleep_mood = pd.DataFrame({'bad_sleep': general_data.sleep == 'bad', 'bad_mood': general_data.mood == 'bad'})\n",
    "chi2_table(sleep_mood.bad_sleep, sleep_mood.bad_mood)"
   ]
  },
  {
   "cell_type": "code",
   "execution_count": 693,
   "metadata": {},
   "outputs": [],
   "source": [
    "# Create some derived features\n",
    "\n",
    "# More than 7 hours sleep\n",
    "sleep_data['enough_sleep'] = sleep_data.total_sleep_mins > (7 * 60)\n",
    "# More than 45 mins deep sleep\n",
    "sleep_data['enough_deep_sleep'] = sleep_data.deep_mins > (45)\n",
    "# Awoken in the night (pesky kids!)\n",
    "sleep_data['rudely_awoken'] = sleep_data.wake_mins > (30)\n"
   ]
  },
  {
   "cell_type": "code",
   "execution_count": 694,
   "metadata": {},
   "outputs": [
    {
     "output_type": "execute_result",
     "data": {
      "text/plain": [
       "enough_sleep  False  True \n",
       "sleep                     \n",
       "bad               9      9\n",
       "good              6     71\n",
       "medium           24     65\n",
       "unknown           0      2"
      ],
      "text/html": "<div>\n<style scoped>\n    .dataframe tbody tr th:only-of-type {\n        vertical-align: middle;\n    }\n\n    .dataframe tbody tr th {\n        vertical-align: top;\n    }\n\n    .dataframe thead th {\n        text-align: right;\n    }\n</style>\n<table border=\"1\" class=\"dataframe\">\n  <thead>\n    <tr style=\"text-align: right;\">\n      <th>enough_sleep</th>\n      <th>False</th>\n      <th>True</th>\n    </tr>\n    <tr>\n      <th>sleep</th>\n      <th></th>\n      <th></th>\n    </tr>\n  </thead>\n  <tbody>\n    <tr>\n      <th>bad</th>\n      <td>9</td>\n      <td>9</td>\n    </tr>\n    <tr>\n      <th>good</th>\n      <td>6</td>\n      <td>71</td>\n    </tr>\n    <tr>\n      <th>medium</th>\n      <td>24</td>\n      <td>65</td>\n    </tr>\n    <tr>\n      <th>unknown</th>\n      <td>0</td>\n      <td>2</td>\n    </tr>\n  </tbody>\n</table>\n</div>"
     },
     "metadata": {},
     "execution_count": 694
    }
   ],
   "source": [
    "pd.crosstab(sleep_data.sleep, sleep_data.enough_sleep)\n"
   ]
  },
  {
   "cell_type": "code",
   "execution_count": 695,
   "metadata": {},
   "outputs": [
    {
     "output_type": "execute_result",
     "data": {
      "text/plain": [
       "enough_deep_sleep  False  True \n",
       "sleep                          \n",
       "bad                   11      7\n",
       "good                   7     70\n",
       "medium                21     68\n",
       "unknown                0      2"
      ],
      "text/html": "<div>\n<style scoped>\n    .dataframe tbody tr th:only-of-type {\n        vertical-align: middle;\n    }\n\n    .dataframe tbody tr th {\n        vertical-align: top;\n    }\n\n    .dataframe thead th {\n        text-align: right;\n    }\n</style>\n<table border=\"1\" class=\"dataframe\">\n  <thead>\n    <tr style=\"text-align: right;\">\n      <th>enough_deep_sleep</th>\n      <th>False</th>\n      <th>True</th>\n    </tr>\n    <tr>\n      <th>sleep</th>\n      <th></th>\n      <th></th>\n    </tr>\n  </thead>\n  <tbody>\n    <tr>\n      <th>bad</th>\n      <td>11</td>\n      <td>7</td>\n    </tr>\n    <tr>\n      <th>good</th>\n      <td>7</td>\n      <td>70</td>\n    </tr>\n    <tr>\n      <th>medium</th>\n      <td>21</td>\n      <td>68</td>\n    </tr>\n    <tr>\n      <th>unknown</th>\n      <td>0</td>\n      <td>2</td>\n    </tr>\n  </tbody>\n</table>\n</div>"
     },
     "metadata": {},
     "execution_count": 695
    }
   ],
   "source": [
    "pd.crosstab(sleep_data.sleep, sleep_data.enough_deep_sleep)"
   ]
  },
  {
   "cell_type": "code",
   "execution_count": 696,
   "metadata": {},
   "outputs": [
    {
     "output_type": "execute_result",
     "data": {
      "text/plain": [
       "rudely_awoken  False  True \n",
       "sleep                      \n",
       "bad                5     13\n",
       "good               3     74\n",
       "medium             6     83\n",
       "unknown            0      2"
      ],
      "text/html": "<div>\n<style scoped>\n    .dataframe tbody tr th:only-of-type {\n        vertical-align: middle;\n    }\n\n    .dataframe tbody tr th {\n        vertical-align: top;\n    }\n\n    .dataframe thead th {\n        text-align: right;\n    }\n</style>\n<table border=\"1\" class=\"dataframe\">\n  <thead>\n    <tr style=\"text-align: right;\">\n      <th>rudely_awoken</th>\n      <th>False</th>\n      <th>True</th>\n    </tr>\n    <tr>\n      <th>sleep</th>\n      <th></th>\n      <th></th>\n    </tr>\n  </thead>\n  <tbody>\n    <tr>\n      <th>bad</th>\n      <td>5</td>\n      <td>13</td>\n    </tr>\n    <tr>\n      <th>good</th>\n      <td>3</td>\n      <td>74</td>\n    </tr>\n    <tr>\n      <th>medium</th>\n      <td>6</td>\n      <td>83</td>\n    </tr>\n    <tr>\n      <th>unknown</th>\n      <td>0</td>\n      <td>2</td>\n    </tr>\n  </tbody>\n</table>\n</div>"
     },
     "metadata": {},
     "execution_count": 696
    }
   ],
   "source": [
    "pd.crosstab(sleep_data.sleep, sleep_data.rudely_awoken)"
   ]
  },
  {
   "cell_type": "code",
   "execution_count": 697,
   "metadata": {},
   "outputs": [],
   "source": [
    "# I've been hand recording my alcohol in-take\n",
    "drinks_data = pd.read_csv('data/less.csv')\n",
    "drinks_data = drinks_data.rename(columns = {'Date': 'date', ' Drink Count ': 'drinks'})\n",
    "# The previous days consumption is the relevant data for sleep\n",
    "drinks_data['date'] = drinks_data['date'].apply(lambda x: (datetime.datetime.strptime(x, '%Y-%m-%d') + datetime.timedelta(days=1)).strftime('%Y-%m-%d') )"
   ]
  },
  {
   "cell_type": "code",
   "execution_count": 698,
   "metadata": {},
   "outputs": [],
   "source": [
    "sleep_data = sleep_data.merge(drinks_data, on='date')"
   ]
  },
  {
   "cell_type": "code",
   "execution_count": 699,
   "metadata": {},
   "outputs": [],
   "source": [
    "def get_drink_cat(x):\n",
    "    \n",
    "    status = 'no_drinks'\n",
    "    if x > 0 and x <= 2:\n",
    "        status = 'below_drinks_limit'\n",
    "    elif x > 3:\n",
    "        status = 'above_drinks_limit'\n",
    "    return status\n",
    "\n",
    "sleep_data['drink_status'] = sleep_data.drinks.apply(lambda x: get_drink_cat(x))\n"
   ]
  },
  {
   "cell_type": "code",
   "execution_count": 700,
   "metadata": {},
   "outputs": [
    {
     "output_type": "execute_result",
     "data": {
      "text/plain": [
       "drink_status  above_drinks_limit  below_drinks_limit  no_drinks\n",
       "sleep                                                          \n",
       "bad                           13                   3          2\n",
       "good                          10                  24         44\n",
       "medium                        34                  25         30\n",
       "unknown                        1                   1          0"
      ],
      "text/html": "<div>\n<style scoped>\n    .dataframe tbody tr th:only-of-type {\n        vertical-align: middle;\n    }\n\n    .dataframe tbody tr th {\n        vertical-align: top;\n    }\n\n    .dataframe thead th {\n        text-align: right;\n    }\n</style>\n<table border=\"1\" class=\"dataframe\">\n  <thead>\n    <tr style=\"text-align: right;\">\n      <th>drink_status</th>\n      <th>above_drinks_limit</th>\n      <th>below_drinks_limit</th>\n      <th>no_drinks</th>\n    </tr>\n    <tr>\n      <th>sleep</th>\n      <th></th>\n      <th></th>\n      <th></th>\n    </tr>\n  </thead>\n  <tbody>\n    <tr>\n      <th>bad</th>\n      <td>13</td>\n      <td>3</td>\n      <td>2</td>\n    </tr>\n    <tr>\n      <th>good</th>\n      <td>10</td>\n      <td>24</td>\n      <td>44</td>\n    </tr>\n    <tr>\n      <th>medium</th>\n      <td>34</td>\n      <td>25</td>\n      <td>30</td>\n    </tr>\n    <tr>\n      <th>unknown</th>\n      <td>1</td>\n      <td>1</td>\n      <td>0</td>\n    </tr>\n  </tbody>\n</table>\n</div>"
     },
     "metadata": {},
     "execution_count": 700
    }
   ],
   "source": [
    "pd.crosstab(sleep_data.sleep, sleep_data.drink_status)"
   ]
  },
  {
   "cell_type": "code",
   "execution_count": 701,
   "metadata": {},
   "outputs": [],
   "source": [
    "def get_bedtime_cat(x):\n",
    "    if x > datetime.time.fromisoformat('12:00:00') and x <= datetime.time.fromisoformat('22:30:00'):\n",
    "        status = 'early_to_bed'\n",
    "    elif x > datetime.time.fromisoformat('22:30:00') and x <= datetime.time.fromisoformat('23:59:00'):\n",
    "        status = 'ontime_to_bed'\n",
    "    else:\n",
    "        status = 'late_to_bed'\n",
    "    return status\n",
    "\n",
    "sleep_data['bedtime_status'] = sleep_data.start_time.apply(lambda x: get_bedtime_cat(datetime.time.fromisoformat(str(x))))"
   ]
  },
  {
   "cell_type": "code",
   "execution_count": 702,
   "metadata": {},
   "outputs": [
    {
     "output_type": "execute_result",
     "data": {
      "text/plain": [
       "bedtime_status  early_to_bed  late_to_bed  ontime_to_bed\n",
       "sleep                                                   \n",
       "bad                        1            7             10\n",
       "good                      12           17             49\n",
       "medium                     6           48             35\n",
       "unknown                    1            0              1"
      ],
      "text/html": "<div>\n<style scoped>\n    .dataframe tbody tr th:only-of-type {\n        vertical-align: middle;\n    }\n\n    .dataframe tbody tr th {\n        vertical-align: top;\n    }\n\n    .dataframe thead th {\n        text-align: right;\n    }\n</style>\n<table border=\"1\" class=\"dataframe\">\n  <thead>\n    <tr style=\"text-align: right;\">\n      <th>bedtime_status</th>\n      <th>early_to_bed</th>\n      <th>late_to_bed</th>\n      <th>ontime_to_bed</th>\n    </tr>\n    <tr>\n      <th>sleep</th>\n      <th></th>\n      <th></th>\n      <th></th>\n    </tr>\n  </thead>\n  <tbody>\n    <tr>\n      <th>bad</th>\n      <td>1</td>\n      <td>7</td>\n      <td>10</td>\n    </tr>\n    <tr>\n      <th>good</th>\n      <td>12</td>\n      <td>17</td>\n      <td>49</td>\n    </tr>\n    <tr>\n      <th>medium</th>\n      <td>6</td>\n      <td>48</td>\n      <td>35</td>\n    </tr>\n    <tr>\n      <th>unknown</th>\n      <td>1</td>\n      <td>0</td>\n      <td>1</td>\n    </tr>\n  </tbody>\n</table>\n</div>"
     },
     "metadata": {},
     "execution_count": 702
    }
   ],
   "source": [
    "pd.crosstab(sleep_data.sleep, sleep_data.bedtime_status)"
   ]
  },
  {
   "cell_type": "code",
   "execution_count": 703,
   "metadata": {},
   "outputs": [],
   "source": [
    "sleep_data['good_sleep'] = sleep_data.sleep == 'good'"
   ]
  },
  {
   "cell_type": "code",
   "execution_count": 704,
   "metadata": {},
   "outputs": [],
   "source": [
    "sleep_data.drop(columns=['date', 'start_time', 'total_sleep_mins', 'deep_mins', 'light_mins', 'wake_mins', 'rem_mins', 'sleep', 'mood', 'drinks', 'activities'], inplace=True)"
   ]
  },
  {
   "cell_type": "code",
   "execution_count": 705,
   "metadata": {},
   "outputs": [],
   "source": [
    "bedtime_status_dummy = pd.get_dummies(sleep_data['bedtime_status'], drop_first=True)\n",
    "drink_status_dummy = pd.get_dummies(sleep_data['drink_status'], drop_first=True)"
   ]
  },
  {
   "cell_type": "code",
   "execution_count": 706,
   "metadata": {},
   "outputs": [],
   "source": [
    "sleep_data = pd.concat([sleep_data, bedtime_status_dummy, drink_status_dummy], axis=1)"
   ]
  },
  {
   "cell_type": "code",
   "execution_count": 707,
   "metadata": {},
   "outputs": [
    {
     "output_type": "execute_result",
     "data": {
      "text/plain": [
       "     run_day_before  enough_sleep  enough_deep_sleep  rudely_awoken  \\\n",
       "0                 1             1                  1              1   \n",
       "1                 0             0                  0              1   \n",
       "2                 0             0                  1              1   \n",
       "3                 0             0                  1              1   \n",
       "4                 1             1                  1              1   \n",
       "..              ...           ...                ...            ...   \n",
       "182               0             1                  1              1   \n",
       "183               0             0                  0              1   \n",
       "184               0             0                  1              1   \n",
       "185               1             0                  1              1   \n",
       "186               1             1                  1              1   \n",
       "\n",
       "           drink_status bedtime_status  good_sleep  late_to_bed  \\\n",
       "0    above_drinks_limit    late_to_bed           0            1   \n",
       "1             no_drinks    late_to_bed           0            1   \n",
       "2             no_drinks    late_to_bed           0            1   \n",
       "3    above_drinks_limit   early_to_bed           0            0   \n",
       "4    above_drinks_limit  ontime_to_bed           0            0   \n",
       "..                  ...            ...         ...          ...   \n",
       "182  below_drinks_limit  ontime_to_bed           1            0   \n",
       "183  above_drinks_limit    late_to_bed           0            1   \n",
       "184  below_drinks_limit   early_to_bed           1            0   \n",
       "185           no_drinks    late_to_bed           0            1   \n",
       "186           no_drinks    late_to_bed           1            1   \n",
       "\n",
       "     ontime_to_bed  below_drinks_limit  no_drinks  \n",
       "0                0                   0          0  \n",
       "1                0                   0          1  \n",
       "2                0                   0          1  \n",
       "3                0                   0          0  \n",
       "4                1                   0          0  \n",
       "..             ...                 ...        ...  \n",
       "182              1                   1          0  \n",
       "183              0                   0          0  \n",
       "184              0                   1          0  \n",
       "185              0                   0          1  \n",
       "186              0                   0          1  \n",
       "\n",
       "[187 rows x 11 columns]"
      ],
      "text/html": "<div>\n<style scoped>\n    .dataframe tbody tr th:only-of-type {\n        vertical-align: middle;\n    }\n\n    .dataframe tbody tr th {\n        vertical-align: top;\n    }\n\n    .dataframe thead th {\n        text-align: right;\n    }\n</style>\n<table border=\"1\" class=\"dataframe\">\n  <thead>\n    <tr style=\"text-align: right;\">\n      <th></th>\n      <th>run_day_before</th>\n      <th>enough_sleep</th>\n      <th>enough_deep_sleep</th>\n      <th>rudely_awoken</th>\n      <th>drink_status</th>\n      <th>bedtime_status</th>\n      <th>good_sleep</th>\n      <th>late_to_bed</th>\n      <th>ontime_to_bed</th>\n      <th>below_drinks_limit</th>\n      <th>no_drinks</th>\n    </tr>\n  </thead>\n  <tbody>\n    <tr>\n      <th>0</th>\n      <td>1</td>\n      <td>1</td>\n      <td>1</td>\n      <td>1</td>\n      <td>above_drinks_limit</td>\n      <td>late_to_bed</td>\n      <td>0</td>\n      <td>1</td>\n      <td>0</td>\n      <td>0</td>\n      <td>0</td>\n    </tr>\n    <tr>\n      <th>1</th>\n      <td>0</td>\n      <td>0</td>\n      <td>0</td>\n      <td>1</td>\n      <td>no_drinks</td>\n      <td>late_to_bed</td>\n      <td>0</td>\n      <td>1</td>\n      <td>0</td>\n      <td>0</td>\n      <td>1</td>\n    </tr>\n    <tr>\n      <th>2</th>\n      <td>0</td>\n      <td>0</td>\n      <td>1</td>\n      <td>1</td>\n      <td>no_drinks</td>\n      <td>late_to_bed</td>\n      <td>0</td>\n      <td>1</td>\n      <td>0</td>\n      <td>0</td>\n      <td>1</td>\n    </tr>\n    <tr>\n      <th>3</th>\n      <td>0</td>\n      <td>0</td>\n      <td>1</td>\n      <td>1</td>\n      <td>above_drinks_limit</td>\n      <td>early_to_bed</td>\n      <td>0</td>\n      <td>0</td>\n      <td>0</td>\n      <td>0</td>\n      <td>0</td>\n    </tr>\n    <tr>\n      <th>4</th>\n      <td>1</td>\n      <td>1</td>\n      <td>1</td>\n      <td>1</td>\n      <td>above_drinks_limit</td>\n      <td>ontime_to_bed</td>\n      <td>0</td>\n      <td>0</td>\n      <td>1</td>\n      <td>0</td>\n      <td>0</td>\n    </tr>\n    <tr>\n      <th>...</th>\n      <td>...</td>\n      <td>...</td>\n      <td>...</td>\n      <td>...</td>\n      <td>...</td>\n      <td>...</td>\n      <td>...</td>\n      <td>...</td>\n      <td>...</td>\n      <td>...</td>\n      <td>...</td>\n    </tr>\n    <tr>\n      <th>182</th>\n      <td>0</td>\n      <td>1</td>\n      <td>1</td>\n      <td>1</td>\n      <td>below_drinks_limit</td>\n      <td>ontime_to_bed</td>\n      <td>1</td>\n      <td>0</td>\n      <td>1</td>\n      <td>1</td>\n      <td>0</td>\n    </tr>\n    <tr>\n      <th>183</th>\n      <td>0</td>\n      <td>0</td>\n      <td>0</td>\n      <td>1</td>\n      <td>above_drinks_limit</td>\n      <td>late_to_bed</td>\n      <td>0</td>\n      <td>1</td>\n      <td>0</td>\n      <td>0</td>\n      <td>0</td>\n    </tr>\n    <tr>\n      <th>184</th>\n      <td>0</td>\n      <td>0</td>\n      <td>1</td>\n      <td>1</td>\n      <td>below_drinks_limit</td>\n      <td>early_to_bed</td>\n      <td>1</td>\n      <td>0</td>\n      <td>0</td>\n      <td>1</td>\n      <td>0</td>\n    </tr>\n    <tr>\n      <th>185</th>\n      <td>1</td>\n      <td>0</td>\n      <td>1</td>\n      <td>1</td>\n      <td>no_drinks</td>\n      <td>late_to_bed</td>\n      <td>0</td>\n      <td>1</td>\n      <td>0</td>\n      <td>0</td>\n      <td>1</td>\n    </tr>\n    <tr>\n      <th>186</th>\n      <td>1</td>\n      <td>1</td>\n      <td>1</td>\n      <td>1</td>\n      <td>no_drinks</td>\n      <td>late_to_bed</td>\n      <td>1</td>\n      <td>1</td>\n      <td>0</td>\n      <td>0</td>\n      <td>1</td>\n    </tr>\n  </tbody>\n</table>\n<p>187 rows × 11 columns</p>\n</div>"
     },
     "metadata": {},
     "execution_count": 707
    }
   ],
   "source": [
    "for c in ['run_day_before', 'enough_sleep', 'enough_deep_sleep', 'rudely_awoken', 'good_sleep']:\n",
    "    sleep_data[c] = sleep_data[c].astype(int)\n",
    "sleep_data"
   ]
  },
  {
   "cell_type": "code",
   "execution_count": 708,
   "metadata": {},
   "outputs": [
    {
     "output_type": "stream",
     "name": "stdout",
     "text": [
      "              precision    recall  f1-score   support\n\n           0       0.77      0.68      0.72        34\n           1       0.59      0.70      0.64        23\n\n    accuracy                           0.68        57\n   macro avg       0.68      0.69      0.68        57\nweighted avg       0.70      0.68      0.69        57\n\n"
     ]
    }
   ],
   "source": [
    "from sklearn.tree import DecisionTreeClassifier\n",
    "model = DecisionTreeClassifier(class_weight=\"balanced\")\n",
    "result = model.fit(X_train,y_train)\n",
    "predictions = model.predict(X_test)\n",
    "print(classification_report(y_test,predictions))"
   ]
  },
  {
   "cell_type": "code",
   "execution_count": 709,
   "metadata": {},
   "outputs": [],
   "source": [
    "sleep_data.drop(['bedtime_status', 'drink_status'], axis=1, inplace=True)"
   ]
  },
  {
   "cell_type": "code",
   "execution_count": 710,
   "metadata": {},
   "outputs": [],
   "source": [
    "sleep_data.drop(['ontime_to_bed', 'below_drinks_limit'], axis=1, inplace=True)"
   ]
  },
  {
   "cell_type": "code",
   "execution_count": 725,
   "metadata": {},
   "outputs": [],
   "source": [
    "from sklearn.model_selection import train_test_split\n",
    "X_train, X_test, y_train, y_test = train_test_split(sleep_data.drop('good_sleep',axis=1), \n",
    "                                                    sleep_data['good_sleep'], test_size=0.30, \n",
    "                                                    random_state=99)"
   ]
  },
  {
   "cell_type": "code",
   "execution_count": 726,
   "metadata": {},
   "outputs": [
    {
     "output_type": "execute_result",
     "data": {
      "text/plain": [
       "Index(['enough_sleep', 'enough_deep_sleep', 'late_to_bed', 'no_drinks'], dtype='object')"
      ]
     },
     "metadata": {},
     "execution_count": 726
    }
   ],
   "source": [
    "from sklearn.feature_selection import SelectKBest, chi2\n",
    "X_new = SelectKBest(chi2, k=4).fit(X_train, y_train)\n",
    "mask = X_new.get_support()\n",
    "X_train.columns[mask]"
   ]
  },
  {
   "cell_type": "code",
   "execution_count": 715,
   "metadata": {},
   "outputs": [
    {
     "output_type": "stream",
     "name": "stdout",
     "text": [
      "              precision    recall  f1-score   support\n\n           0       0.73      0.71      0.72        34\n           1       0.58      0.61      0.60        23\n\n    accuracy                           0.67        57\n   macro avg       0.66      0.66      0.66        57\nweighted avg       0.67      0.67      0.67        57\n\n"
     ]
    }
   ],
   "source": [
    "from sklearn.linear_model import LogisticRegression\n",
    "model = LogisticRegression(penalty='l2')\n",
    "result = model.fit(X_train,y_train)\n",
    "predictions = model.predict(X_test)\n",
    "print(classification_report(y_test,predictions))\n"
   ]
  },
  {
   "cell_type": "code",
   "execution_count": 728,
   "metadata": {},
   "outputs": [
    {
     "output_type": "stream",
     "name": "stdout",
     "text": [
      "              precision    recall  f1-score   support\n",
      "\n",
      "           0       0.73      0.71      0.72        34\n",
      "           1       0.58      0.61      0.60        23\n",
      "\n",
      "    accuracy                           0.67        57\n",
      "   macro avg       0.66      0.66      0.66        57\n",
      "weighted avg       0.67      0.67      0.67        57\n",
      "\n",
      "Index(['enough_deep_sleep', 'late_to_bed', 'no_drinks'], dtype='object')\n",
      "/Users/pinkerton/.virtualenvs/sleep_tracker/lib/python3.9/site-packages/sklearn/utils/validation.py:70: FutureWarning: Pass n_features_to_select=3 as keyword args. From version 1.0 (renaming of 0.25) passing these as positional arguments will result in an error\n",
      "  warnings.warn(f\"Pass {args_msg} as keyword args. From version \"\n"
     ]
    }
   ],
   "source": [
    "from sklearn.feature_selection import RFE\n",
    "rfe = RFE(model, 3)\n",
    "rfe = rfe.fit(X_train, y_train)\n",
    "predictions = model.predict(X_test)\n",
    "print(classification_report(y_test,predictions))\n",
    "print(X_train.columns[rfe.support_])\n",
    "\n"
   ]
  },
  {
   "cell_type": "code",
   "execution_count": 729,
   "metadata": {},
   "outputs": [
    {
     "output_type": "stream",
     "name": "stdout",
     "text": [
      "              precision    recall  f1-score   support\n\n           0       0.70      0.88      0.78        34\n           1       0.71      0.43      0.54        23\n\n    accuracy                           0.70        57\n   macro avg       0.71      0.66      0.66        57\nweighted avg       0.70      0.70      0.68        57\n\n"
     ]
    }
   ],
   "source": [
    "model = LogisticRegression(penalty='l2')\n",
    "X_train2 = X_train[['enough_deep_sleep', 'late_to_bed', 'no_drinks']]\n",
    "X_test2 = X_test[['enough_deep_sleep', 'late_to_bed', 'no_drinks']]\n",
    "result = model.fit(X_train2,y_train)\n",
    "predictions = model.predict(X_test2)\n",
    "print(classification_report(y_test,predictions))"
   ]
  },
  {
   "cell_type": "code",
   "execution_count": 731,
   "metadata": {},
   "outputs": [
    {
     "output_type": "stream",
     "name": "stdout",
     "text": [
      "              precision    recall  f1-score   support\n\n           0       0.77      0.68      0.72        34\n           1       0.59      0.70      0.64        23\n\n    accuracy                           0.68        57\n   macro avg       0.68      0.69      0.68        57\nweighted avg       0.70      0.68      0.69        57\n\n"
     ]
    }
   ],
   "source": [
    "from sklearn.ensemble import RandomForestClassifier\n",
    "model = RandomForestClassifier(n_jobs=-1)\n",
    "result = model.fit(X_train,y_train)\n",
    "predictions = model.predict(X_test)\n",
    "print(classification_report(y_test,predictions))"
   ]
  },
  {
   "cell_type": "code",
   "execution_count": 732,
   "metadata": {},
   "outputs": [
    {
     "output_type": "display_data",
     "data": {
      "text/plain": "<Figure size 432x288 with 1 Axes>",
      "image/svg+xml": "<?xml version=\"1.0\" encoding=\"utf-8\" standalone=\"no\"?>\n<!DOCTYPE svg PUBLIC \"-//W3C//DTD SVG 1.1//EN\"\n  \"http://www.w3.org/Graphics/SVG/1.1/DTD/svg11.dtd\">\n<svg height=\"280.07125pt\" version=\"1.1\" viewBox=\"0 0 418.13125 280.07125\" width=\"418.13125pt\" xmlns=\"http://www.w3.org/2000/svg\" xmlns:xlink=\"http://www.w3.org/1999/xlink\">\n <metadata>\n  <rdf:RDF xmlns:cc=\"http://creativecommons.org/ns#\" xmlns:dc=\"http://purl.org/dc/elements/1.1/\" xmlns:rdf=\"http://www.w3.org/1999/02/22-rdf-syntax-ns#\">\n   <cc:Work>\n    <dc:type rdf:resource=\"http://purl.org/dc/dcmitype/StillImage\"/>\n    <dc:date>2021-05-27T13:04:50.929505</dc:date>\n    <dc:format>image/svg+xml</dc:format>\n    <dc:creator>\n     <cc:Agent>\n      <dc:title>Matplotlib v3.4.2, https://matplotlib.org/</dc:title>\n     </cc:Agent>\n    </dc:creator>\n   </cc:Work>\n  </rdf:RDF>\n </metadata>\n <defs>\n  <style type=\"text/css\">*{stroke-linecap:butt;stroke-linejoin:round;}</style>\n </defs>\n <g id=\"figure_1\">\n  <g id=\"patch_1\">\n   <path d=\"M 0 280.07125 \nL 418.13125 280.07125 \nL 418.13125 0 \nL 0 0 \nz\n\" style=\"fill:none;\"/>\n  </g>\n  <g id=\"axes_1\">\n   <g id=\"patch_2\">\n    <path d=\"M 43.78125 166.593125 \nL 410.93125 166.593125 \nL 410.93125 22.318125 \nL 43.78125 22.318125 \nz\n\" style=\"fill:#ffffff;\"/>\n   </g>\n   <g id=\"patch_3\">\n    <path clip-path=\"url(#pce2eecc086)\" d=\"M 59.079167 159.28884 \nL 89.675 159.28884 \nL 89.675 121.334123 \nL 59.079167 121.334123 \nz\n\" style=\"fill:#1f77b4;\"/>\n   </g>\n   <g id=\"patch_4\">\n    <path clip-path=\"url(#pce2eecc086)\" d=\"M 120.270833 159.28884 \nL 150.866667 159.28884 \nL 150.866667 103.074257 \nL 120.270833 103.074257 \nz\n\" style=\"fill:#1f77b4;\"/>\n   </g>\n   <g id=\"patch_5\">\n    <path clip-path=\"url(#pce2eecc086)\" d=\"M 181.4625 159.28884 \nL 212.058333 159.28884 \nL 212.058333 101.033408 \nL 181.4625 101.033408 \nz\n\" style=\"fill:#1f77b4;\"/>\n   </g>\n   <g id=\"patch_6\">\n    <path clip-path=\"url(#pce2eecc086)\" d=\"M 242.654167 159.28884 \nL 273.25 159.28884 \nL 273.25 145.262426 \nL 242.654167 145.262426 \nz\n\" style=\"fill:#1f77b4;\"/>\n   </g>\n   <g id=\"patch_7\">\n    <path clip-path=\"url(#pce2eecc086)\" d=\"M 303.845833 159.28884 \nL 334.441667 159.28884 \nL 334.441667 71.755259 \nL 303.845833 71.755259 \nz\n\" style=\"fill:#1f77b4;\"/>\n   </g>\n   <g id=\"patch_8\">\n    <path clip-path=\"url(#pce2eecc086)\" d=\"M 365.0375 159.28884 \nL 395.633333 159.28884 \nL 395.633333 80.336732 \nL 365.0375 80.336732 \nz\n\" style=\"fill:#1f77b4;\"/>\n   </g>\n   <g id=\"matplotlib.axis_1\">\n    <g id=\"xtick_1\">\n     <g id=\"line2d_1\">\n      <defs>\n       <path d=\"M 0 0 \nL 0 3.5 \n\" id=\"ma682405a4e\" style=\"stroke:#000000;stroke-width:0.8;\"/>\n      </defs>\n      <g>\n       <use style=\"stroke:#000000;stroke-width:0.8;\" x=\"74.377083\" xlink:href=\"#ma682405a4e\" y=\"166.593125\"/>\n      </g>\n     </g>\n     <g id=\"text_1\">\n      <!-- run_day_before -->\n      <g transform=\"translate(76.997396 250.954063)rotate(-90)scale(0.1 -0.1)\">\n       <defs>\n        <path d=\"M 2631 2963 \nQ 2534 3019 2420 3045 \nQ 2306 3072 2169 3072 \nQ 1681 3072 1420 2755 \nQ 1159 2438 1159 1844 \nL 1159 0 \nL 581 0 \nL 581 3500 \nL 1159 3500 \nL 1159 2956 \nQ 1341 3275 1631 3429 \nQ 1922 3584 2338 3584 \nQ 2397 3584 2469 3576 \nQ 2541 3569 2628 3553 \nL 2631 2963 \nz\n\" id=\"DejaVuSans-72\" transform=\"scale(0.015625)\"/>\n        <path d=\"M 544 1381 \nL 544 3500 \nL 1119 3500 \nL 1119 1403 \nQ 1119 906 1312 657 \nQ 1506 409 1894 409 \nQ 2359 409 2629 706 \nQ 2900 1003 2900 1516 \nL 2900 3500 \nL 3475 3500 \nL 3475 0 \nL 2900 0 \nL 2900 538 \nQ 2691 219 2414 64 \nQ 2138 -91 1772 -91 \nQ 1169 -91 856 284 \nQ 544 659 544 1381 \nz\nM 1991 3584 \nL 1991 3584 \nz\n\" id=\"DejaVuSans-75\" transform=\"scale(0.015625)\"/>\n        <path d=\"M 3513 2113 \nL 3513 0 \nL 2938 0 \nL 2938 2094 \nQ 2938 2591 2744 2837 \nQ 2550 3084 2163 3084 \nQ 1697 3084 1428 2787 \nQ 1159 2491 1159 1978 \nL 1159 0 \nL 581 0 \nL 581 3500 \nL 1159 3500 \nL 1159 2956 \nQ 1366 3272 1645 3428 \nQ 1925 3584 2291 3584 \nQ 2894 3584 3203 3211 \nQ 3513 2838 3513 2113 \nz\n\" id=\"DejaVuSans-6e\" transform=\"scale(0.015625)\"/>\n        <path d=\"M 3263 -1063 \nL 3263 -1509 \nL -63 -1509 \nL -63 -1063 \nL 3263 -1063 \nz\n\" id=\"DejaVuSans-5f\" transform=\"scale(0.015625)\"/>\n        <path d=\"M 2906 2969 \nL 2906 4863 \nL 3481 4863 \nL 3481 0 \nL 2906 0 \nL 2906 525 \nQ 2725 213 2448 61 \nQ 2172 -91 1784 -91 \nQ 1150 -91 751 415 \nQ 353 922 353 1747 \nQ 353 2572 751 3078 \nQ 1150 3584 1784 3584 \nQ 2172 3584 2448 3432 \nQ 2725 3281 2906 2969 \nz\nM 947 1747 \nQ 947 1113 1208 752 \nQ 1469 391 1925 391 \nQ 2381 391 2643 752 \nQ 2906 1113 2906 1747 \nQ 2906 2381 2643 2742 \nQ 2381 3103 1925 3103 \nQ 1469 3103 1208 2742 \nQ 947 2381 947 1747 \nz\n\" id=\"DejaVuSans-64\" transform=\"scale(0.015625)\"/>\n        <path d=\"M 2194 1759 \nQ 1497 1759 1228 1600 \nQ 959 1441 959 1056 \nQ 959 750 1161 570 \nQ 1363 391 1709 391 \nQ 2188 391 2477 730 \nQ 2766 1069 2766 1631 \nL 2766 1759 \nL 2194 1759 \nz\nM 3341 1997 \nL 3341 0 \nL 2766 0 \nL 2766 531 \nQ 2569 213 2275 61 \nQ 1981 -91 1556 -91 \nQ 1019 -91 701 211 \nQ 384 513 384 1019 \nQ 384 1609 779 1909 \nQ 1175 2209 1959 2209 \nL 2766 2209 \nL 2766 2266 \nQ 2766 2663 2505 2880 \nQ 2244 3097 1772 3097 \nQ 1472 3097 1187 3025 \nQ 903 2953 641 2809 \nL 641 3341 \nQ 956 3463 1253 3523 \nQ 1550 3584 1831 3584 \nQ 2591 3584 2966 3190 \nQ 3341 2797 3341 1997 \nz\n\" id=\"DejaVuSans-61\" transform=\"scale(0.015625)\"/>\n        <path d=\"M 2059 -325 \nQ 1816 -950 1584 -1140 \nQ 1353 -1331 966 -1331 \nL 506 -1331 \nL 506 -850 \nL 844 -850 \nQ 1081 -850 1212 -737 \nQ 1344 -625 1503 -206 \nL 1606 56 \nL 191 3500 \nL 800 3500 \nL 1894 763 \nL 2988 3500 \nL 3597 3500 \nL 2059 -325 \nz\n\" id=\"DejaVuSans-79\" transform=\"scale(0.015625)\"/>\n        <path d=\"M 3116 1747 \nQ 3116 2381 2855 2742 \nQ 2594 3103 2138 3103 \nQ 1681 3103 1420 2742 \nQ 1159 2381 1159 1747 \nQ 1159 1113 1420 752 \nQ 1681 391 2138 391 \nQ 2594 391 2855 752 \nQ 3116 1113 3116 1747 \nz\nM 1159 2969 \nQ 1341 3281 1617 3432 \nQ 1894 3584 2278 3584 \nQ 2916 3584 3314 3078 \nQ 3713 2572 3713 1747 \nQ 3713 922 3314 415 \nQ 2916 -91 2278 -91 \nQ 1894 -91 1617 61 \nQ 1341 213 1159 525 \nL 1159 0 \nL 581 0 \nL 581 4863 \nL 1159 4863 \nL 1159 2969 \nz\n\" id=\"DejaVuSans-62\" transform=\"scale(0.015625)\"/>\n        <path d=\"M 3597 1894 \nL 3597 1613 \nL 953 1613 \nQ 991 1019 1311 708 \nQ 1631 397 2203 397 \nQ 2534 397 2845 478 \nQ 3156 559 3463 722 \nL 3463 178 \nQ 3153 47 2828 -22 \nQ 2503 -91 2169 -91 \nQ 1331 -91 842 396 \nQ 353 884 353 1716 \nQ 353 2575 817 3079 \nQ 1281 3584 2069 3584 \nQ 2775 3584 3186 3129 \nQ 3597 2675 3597 1894 \nz\nM 3022 2063 \nQ 3016 2534 2758 2815 \nQ 2500 3097 2075 3097 \nQ 1594 3097 1305 2825 \nQ 1016 2553 972 2059 \nL 3022 2063 \nz\n\" id=\"DejaVuSans-65\" transform=\"scale(0.015625)\"/>\n        <path d=\"M 2375 4863 \nL 2375 4384 \nL 1825 4384 \nQ 1516 4384 1395 4259 \nQ 1275 4134 1275 3809 \nL 1275 3500 \nL 2222 3500 \nL 2222 3053 \nL 1275 3053 \nL 1275 0 \nL 697 0 \nL 697 3053 \nL 147 3053 \nL 147 3500 \nL 697 3500 \nL 697 3744 \nQ 697 4328 969 4595 \nQ 1241 4863 1831 4863 \nL 2375 4863 \nz\n\" id=\"DejaVuSans-66\" transform=\"scale(0.015625)\"/>\n        <path d=\"M 1959 3097 \nQ 1497 3097 1228 2736 \nQ 959 2375 959 1747 \nQ 959 1119 1226 758 \nQ 1494 397 1959 397 \nQ 2419 397 2687 759 \nQ 2956 1122 2956 1747 \nQ 2956 2369 2687 2733 \nQ 2419 3097 1959 3097 \nz\nM 1959 3584 \nQ 2709 3584 3137 3096 \nQ 3566 2609 3566 1747 \nQ 3566 888 3137 398 \nQ 2709 -91 1959 -91 \nQ 1206 -91 779 398 \nQ 353 888 353 1747 \nQ 353 2609 779 3096 \nQ 1206 3584 1959 3584 \nz\n\" id=\"DejaVuSans-6f\" transform=\"scale(0.015625)\"/>\n       </defs>\n       <use xlink:href=\"#DejaVuSans-72\"/>\n       <use x=\"41.113281\" xlink:href=\"#DejaVuSans-75\"/>\n       <use x=\"104.492188\" xlink:href=\"#DejaVuSans-6e\"/>\n       <use x=\"167.871094\" xlink:href=\"#DejaVuSans-5f\"/>\n       <use x=\"217.871094\" xlink:href=\"#DejaVuSans-64\"/>\n       <use x=\"281.347656\" xlink:href=\"#DejaVuSans-61\"/>\n       <use x=\"342.626953\" xlink:href=\"#DejaVuSans-79\"/>\n       <use x=\"401.806641\" xlink:href=\"#DejaVuSans-5f\"/>\n       <use x=\"451.806641\" xlink:href=\"#DejaVuSans-62\"/>\n       <use x=\"515.283203\" xlink:href=\"#DejaVuSans-65\"/>\n       <use x=\"576.806641\" xlink:href=\"#DejaVuSans-66\"/>\n       <use x=\"612.011719\" xlink:href=\"#DejaVuSans-6f\"/>\n       <use x=\"673.193359\" xlink:href=\"#DejaVuSans-72\"/>\n       <use x=\"712.056641\" xlink:href=\"#DejaVuSans-65\"/>\n      </g>\n     </g>\n    </g>\n    <g id=\"xtick_2\">\n     <g id=\"line2d_2\">\n      <g>\n       <use style=\"stroke:#000000;stroke-width:0.8;\" x=\"135.56875\" xlink:href=\"#ma682405a4e\" y=\"166.593125\"/>\n      </g>\n     </g>\n     <g id=\"text_2\">\n      <!-- enough_sleep -->\n      <g transform=\"translate(138.189063 242.868125)rotate(-90)scale(0.1 -0.1)\">\n       <defs>\n        <path d=\"M 2906 1791 \nQ 2906 2416 2648 2759 \nQ 2391 3103 1925 3103 \nQ 1463 3103 1205 2759 \nQ 947 2416 947 1791 \nQ 947 1169 1205 825 \nQ 1463 481 1925 481 \nQ 2391 481 2648 825 \nQ 2906 1169 2906 1791 \nz\nM 3481 434 \nQ 3481 -459 3084 -895 \nQ 2688 -1331 1869 -1331 \nQ 1566 -1331 1297 -1286 \nQ 1028 -1241 775 -1147 \nL 775 -588 \nQ 1028 -725 1275 -790 \nQ 1522 -856 1778 -856 \nQ 2344 -856 2625 -561 \nQ 2906 -266 2906 331 \nL 2906 616 \nQ 2728 306 2450 153 \nQ 2172 0 1784 0 \nQ 1141 0 747 490 \nQ 353 981 353 1791 \nQ 353 2603 747 3093 \nQ 1141 3584 1784 3584 \nQ 2172 3584 2450 3431 \nQ 2728 3278 2906 2969 \nL 2906 3500 \nL 3481 3500 \nL 3481 434 \nz\n\" id=\"DejaVuSans-67\" transform=\"scale(0.015625)\"/>\n        <path d=\"M 3513 2113 \nL 3513 0 \nL 2938 0 \nL 2938 2094 \nQ 2938 2591 2744 2837 \nQ 2550 3084 2163 3084 \nQ 1697 3084 1428 2787 \nQ 1159 2491 1159 1978 \nL 1159 0 \nL 581 0 \nL 581 4863 \nL 1159 4863 \nL 1159 2956 \nQ 1366 3272 1645 3428 \nQ 1925 3584 2291 3584 \nQ 2894 3584 3203 3211 \nQ 3513 2838 3513 2113 \nz\n\" id=\"DejaVuSans-68\" transform=\"scale(0.015625)\"/>\n        <path d=\"M 2834 3397 \nL 2834 2853 \nQ 2591 2978 2328 3040 \nQ 2066 3103 1784 3103 \nQ 1356 3103 1142 2972 \nQ 928 2841 928 2578 \nQ 928 2378 1081 2264 \nQ 1234 2150 1697 2047 \nL 1894 2003 \nQ 2506 1872 2764 1633 \nQ 3022 1394 3022 966 \nQ 3022 478 2636 193 \nQ 2250 -91 1575 -91 \nQ 1294 -91 989 -36 \nQ 684 19 347 128 \nL 347 722 \nQ 666 556 975 473 \nQ 1284 391 1588 391 \nQ 1994 391 2212 530 \nQ 2431 669 2431 922 \nQ 2431 1156 2273 1281 \nQ 2116 1406 1581 1522 \nL 1381 1569 \nQ 847 1681 609 1914 \nQ 372 2147 372 2553 \nQ 372 3047 722 3315 \nQ 1072 3584 1716 3584 \nQ 2034 3584 2315 3537 \nQ 2597 3491 2834 3397 \nz\n\" id=\"DejaVuSans-73\" transform=\"scale(0.015625)\"/>\n        <path d=\"M 603 4863 \nL 1178 4863 \nL 1178 0 \nL 603 0 \nL 603 4863 \nz\n\" id=\"DejaVuSans-6c\" transform=\"scale(0.015625)\"/>\n        <path d=\"M 1159 525 \nL 1159 -1331 \nL 581 -1331 \nL 581 3500 \nL 1159 3500 \nL 1159 2969 \nQ 1341 3281 1617 3432 \nQ 1894 3584 2278 3584 \nQ 2916 3584 3314 3078 \nQ 3713 2572 3713 1747 \nQ 3713 922 3314 415 \nQ 2916 -91 2278 -91 \nQ 1894 -91 1617 61 \nQ 1341 213 1159 525 \nz\nM 3116 1747 \nQ 3116 2381 2855 2742 \nQ 2594 3103 2138 3103 \nQ 1681 3103 1420 2742 \nQ 1159 2381 1159 1747 \nQ 1159 1113 1420 752 \nQ 1681 391 2138 391 \nQ 2594 391 2855 752 \nQ 3116 1113 3116 1747 \nz\n\" id=\"DejaVuSans-70\" transform=\"scale(0.015625)\"/>\n       </defs>\n       <use xlink:href=\"#DejaVuSans-65\"/>\n       <use x=\"61.523438\" xlink:href=\"#DejaVuSans-6e\"/>\n       <use x=\"124.902344\" xlink:href=\"#DejaVuSans-6f\"/>\n       <use x=\"186.083984\" xlink:href=\"#DejaVuSans-75\"/>\n       <use x=\"249.462891\" xlink:href=\"#DejaVuSans-67\"/>\n       <use x=\"312.939453\" xlink:href=\"#DejaVuSans-68\"/>\n       <use x=\"376.318359\" xlink:href=\"#DejaVuSans-5f\"/>\n       <use x=\"426.318359\" xlink:href=\"#DejaVuSans-73\"/>\n       <use x=\"478.417969\" xlink:href=\"#DejaVuSans-6c\"/>\n       <use x=\"506.201172\" xlink:href=\"#DejaVuSans-65\"/>\n       <use x=\"567.724609\" xlink:href=\"#DejaVuSans-65\"/>\n       <use x=\"629.248047\" xlink:href=\"#DejaVuSans-70\"/>\n      </g>\n     </g>\n    </g>\n    <g id=\"xtick_3\">\n     <g id=\"line2d_3\">\n      <g>\n       <use style=\"stroke:#000000;stroke-width:0.8;\" x=\"196.760417\" xlink:href=\"#ma682405a4e\" y=\"166.593125\"/>\n      </g>\n     </g>\n     <g id=\"text_3\">\n      <!-- enough_deep_sleep -->\n      <g transform=\"translate(199.380729 272.87125)rotate(-90)scale(0.1 -0.1)\">\n       <use xlink:href=\"#DejaVuSans-65\"/>\n       <use x=\"61.523438\" xlink:href=\"#DejaVuSans-6e\"/>\n       <use x=\"124.902344\" xlink:href=\"#DejaVuSans-6f\"/>\n       <use x=\"186.083984\" xlink:href=\"#DejaVuSans-75\"/>\n       <use x=\"249.462891\" xlink:href=\"#DejaVuSans-67\"/>\n       <use x=\"312.939453\" xlink:href=\"#DejaVuSans-68\"/>\n       <use x=\"376.318359\" xlink:href=\"#DejaVuSans-5f\"/>\n       <use x=\"426.318359\" xlink:href=\"#DejaVuSans-64\"/>\n       <use x=\"489.794922\" xlink:href=\"#DejaVuSans-65\"/>\n       <use x=\"551.318359\" xlink:href=\"#DejaVuSans-65\"/>\n       <use x=\"612.841797\" xlink:href=\"#DejaVuSans-70\"/>\n       <use x=\"676.318359\" xlink:href=\"#DejaVuSans-5f\"/>\n       <use x=\"726.318359\" xlink:href=\"#DejaVuSans-73\"/>\n       <use x=\"778.417969\" xlink:href=\"#DejaVuSans-6c\"/>\n       <use x=\"806.201172\" xlink:href=\"#DejaVuSans-65\"/>\n       <use x=\"867.724609\" xlink:href=\"#DejaVuSans-65\"/>\n       <use x=\"929.248047\" xlink:href=\"#DejaVuSans-70\"/>\n      </g>\n     </g>\n    </g>\n    <g id=\"xtick_4\">\n     <g id=\"line2d_4\">\n      <g>\n       <use style=\"stroke:#000000;stroke-width:0.8;\" x=\"257.952083\" xlink:href=\"#ma682405a4e\" y=\"166.593125\"/>\n      </g>\n     </g>\n     <g id=\"text_4\">\n      <!-- rudely_awoken -->\n      <g transform=\"translate(260.572396 248.58375)rotate(-90)scale(0.1 -0.1)\">\n       <defs>\n        <path d=\"M 269 3500 \nL 844 3500 \nL 1563 769 \nL 2278 3500 \nL 2956 3500 \nL 3675 769 \nL 4391 3500 \nL 4966 3500 \nL 4050 0 \nL 3372 0 \nL 2619 2869 \nL 1863 0 \nL 1184 0 \nL 269 3500 \nz\n\" id=\"DejaVuSans-77\" transform=\"scale(0.015625)\"/>\n        <path d=\"M 581 4863 \nL 1159 4863 \nL 1159 1991 \nL 2875 3500 \nL 3609 3500 \nL 1753 1863 \nL 3688 0 \nL 2938 0 \nL 1159 1709 \nL 1159 0 \nL 581 0 \nL 581 4863 \nz\n\" id=\"DejaVuSans-6b\" transform=\"scale(0.015625)\"/>\n       </defs>\n       <use xlink:href=\"#DejaVuSans-72\"/>\n       <use x=\"41.113281\" xlink:href=\"#DejaVuSans-75\"/>\n       <use x=\"104.492188\" xlink:href=\"#DejaVuSans-64\"/>\n       <use x=\"167.96875\" xlink:href=\"#DejaVuSans-65\"/>\n       <use x=\"229.492188\" xlink:href=\"#DejaVuSans-6c\"/>\n       <use x=\"257.275391\" xlink:href=\"#DejaVuSans-79\"/>\n       <use x=\"316.455078\" xlink:href=\"#DejaVuSans-5f\"/>\n       <use x=\"366.455078\" xlink:href=\"#DejaVuSans-61\"/>\n       <use x=\"427.734375\" xlink:href=\"#DejaVuSans-77\"/>\n       <use x=\"509.521484\" xlink:href=\"#DejaVuSans-6f\"/>\n       <use x=\"570.703125\" xlink:href=\"#DejaVuSans-6b\"/>\n       <use x=\"624.988281\" xlink:href=\"#DejaVuSans-65\"/>\n       <use x=\"686.511719\" xlink:href=\"#DejaVuSans-6e\"/>\n      </g>\n     </g>\n    </g>\n    <g id=\"xtick_5\">\n     <g id=\"line2d_5\">\n      <g>\n       <use style=\"stroke:#000000;stroke-width:0.8;\" x=\"319.14375\" xlink:href=\"#ma682405a4e\" y=\"166.593125\"/>\n      </g>\n     </g>\n     <g id=\"text_5\">\n      <!-- late_to_bed -->\n      <g transform=\"translate(321.764063 231.461875)rotate(-90)scale(0.1 -0.1)\">\n       <defs>\n        <path d=\"M 1172 4494 \nL 1172 3500 \nL 2356 3500 \nL 2356 3053 \nL 1172 3053 \nL 1172 1153 \nQ 1172 725 1289 603 \nQ 1406 481 1766 481 \nL 2356 481 \nL 2356 0 \nL 1766 0 \nQ 1100 0 847 248 \nQ 594 497 594 1153 \nL 594 3053 \nL 172 3053 \nL 172 3500 \nL 594 3500 \nL 594 4494 \nL 1172 4494 \nz\n\" id=\"DejaVuSans-74\" transform=\"scale(0.015625)\"/>\n       </defs>\n       <use xlink:href=\"#DejaVuSans-6c\"/>\n       <use x=\"27.783203\" xlink:href=\"#DejaVuSans-61\"/>\n       <use x=\"89.0625\" xlink:href=\"#DejaVuSans-74\"/>\n       <use x=\"128.271484\" xlink:href=\"#DejaVuSans-65\"/>\n       <use x=\"189.794922\" xlink:href=\"#DejaVuSans-5f\"/>\n       <use x=\"239.794922\" xlink:href=\"#DejaVuSans-74\"/>\n       <use x=\"279.003906\" xlink:href=\"#DejaVuSans-6f\"/>\n       <use x=\"340.185547\" xlink:href=\"#DejaVuSans-5f\"/>\n       <use x=\"390.185547\" xlink:href=\"#DejaVuSans-62\"/>\n       <use x=\"453.662109\" xlink:href=\"#DejaVuSans-65\"/>\n       <use x=\"515.185547\" xlink:href=\"#DejaVuSans-64\"/>\n      </g>\n     </g>\n    </g>\n    <g id=\"xtick_6\">\n     <g id=\"line2d_6\">\n      <g>\n       <use style=\"stroke:#000000;stroke-width:0.8;\" x=\"380.335417\" xlink:href=\"#ma682405a4e\" y=\"166.593125\"/>\n      </g>\n     </g>\n     <g id=\"text_6\">\n      <!-- no_drinks -->\n      <g transform=\"translate(382.955729 221.624375)rotate(-90)scale(0.1 -0.1)\">\n       <defs>\n        <path d=\"M 603 3500 \nL 1178 3500 \nL 1178 0 \nL 603 0 \nL 603 3500 \nz\nM 603 4863 \nL 1178 4863 \nL 1178 4134 \nL 603 4134 \nL 603 4863 \nz\n\" id=\"DejaVuSans-69\" transform=\"scale(0.015625)\"/>\n       </defs>\n       <use xlink:href=\"#DejaVuSans-6e\"/>\n       <use x=\"63.378906\" xlink:href=\"#DejaVuSans-6f\"/>\n       <use x=\"124.560547\" xlink:href=\"#DejaVuSans-5f\"/>\n       <use x=\"174.560547\" xlink:href=\"#DejaVuSans-64\"/>\n       <use x=\"238.037109\" xlink:href=\"#DejaVuSans-72\"/>\n       <use x=\"279.150391\" xlink:href=\"#DejaVuSans-69\"/>\n       <use x=\"306.933594\" xlink:href=\"#DejaVuSans-6e\"/>\n       <use x=\"370.3125\" xlink:href=\"#DejaVuSans-6b\"/>\n       <use x=\"428.222656\" xlink:href=\"#DejaVuSans-73\"/>\n      </g>\n     </g>\n    </g>\n   </g>\n   <g id=\"matplotlib.axis_2\">\n    <g id=\"ytick_1\">\n     <g id=\"line2d_7\">\n      <defs>\n       <path d=\"M 0 0 \nL -3.5 0 \n\" id=\"m8cf5d2f425\" style=\"stroke:#000000;stroke-width:0.8;\"/>\n      </defs>\n      <g>\n       <use style=\"stroke:#000000;stroke-width:0.8;\" x=\"43.78125\" xlink:href=\"#m8cf5d2f425\" y=\"159.28884\"/>\n      </g>\n     </g>\n     <g id=\"text_7\">\n      <!-- 0.0 -->\n      <g transform=\"translate(20.878125 163.088058)scale(0.1 -0.1)\">\n       <defs>\n        <path d=\"M 2034 4250 \nQ 1547 4250 1301 3770 \nQ 1056 3291 1056 2328 \nQ 1056 1369 1301 889 \nQ 1547 409 2034 409 \nQ 2525 409 2770 889 \nQ 3016 1369 3016 2328 \nQ 3016 3291 2770 3770 \nQ 2525 4250 2034 4250 \nz\nM 2034 4750 \nQ 2819 4750 3233 4129 \nQ 3647 3509 3647 2328 \nQ 3647 1150 3233 529 \nQ 2819 -91 2034 -91 \nQ 1250 -91 836 529 \nQ 422 1150 422 2328 \nQ 422 3509 836 4129 \nQ 1250 4750 2034 4750 \nz\n\" id=\"DejaVuSans-30\" transform=\"scale(0.015625)\"/>\n        <path d=\"M 684 794 \nL 1344 794 \nL 1344 0 \nL 684 0 \nL 684 794 \nz\n\" id=\"DejaVuSans-2e\" transform=\"scale(0.015625)\"/>\n       </defs>\n       <use xlink:href=\"#DejaVuSans-30\"/>\n       <use x=\"63.623047\" xlink:href=\"#DejaVuSans-2e\"/>\n       <use x=\"95.410156\" xlink:href=\"#DejaVuSans-30\"/>\n      </g>\n     </g>\n    </g>\n    <g id=\"ytick_2\">\n     <g id=\"line2d_8\">\n      <g>\n       <use style=\"stroke:#000000;stroke-width:0.8;\" x=\"43.78125\" xlink:href=\"#m8cf5d2f425\" y=\"125.995156\"/>\n      </g>\n     </g>\n     <g id=\"text_8\">\n      <!-- 0.1 -->\n      <g transform=\"translate(20.878125 129.794375)scale(0.1 -0.1)\">\n       <defs>\n        <path d=\"M 794 531 \nL 1825 531 \nL 1825 4091 \nL 703 3866 \nL 703 4441 \nL 1819 4666 \nL 2450 4666 \nL 2450 531 \nL 3481 531 \nL 3481 0 \nL 794 0 \nL 794 531 \nz\n\" id=\"DejaVuSans-31\" transform=\"scale(0.015625)\"/>\n       </defs>\n       <use xlink:href=\"#DejaVuSans-30\"/>\n       <use x=\"63.623047\" xlink:href=\"#DejaVuSans-2e\"/>\n       <use x=\"95.410156\" xlink:href=\"#DejaVuSans-31\"/>\n      </g>\n     </g>\n    </g>\n    <g id=\"ytick_3\">\n     <g id=\"line2d_9\">\n      <g>\n       <use style=\"stroke:#000000;stroke-width:0.8;\" x=\"43.78125\" xlink:href=\"#m8cf5d2f425\" y=\"92.701473\"/>\n      </g>\n     </g>\n     <g id=\"text_9\">\n      <!-- 0.2 -->\n      <g transform=\"translate(20.878125 96.500692)scale(0.1 -0.1)\">\n       <defs>\n        <path d=\"M 1228 531 \nL 3431 531 \nL 3431 0 \nL 469 0 \nL 469 531 \nQ 828 903 1448 1529 \nQ 2069 2156 2228 2338 \nQ 2531 2678 2651 2914 \nQ 2772 3150 2772 3378 \nQ 2772 3750 2511 3984 \nQ 2250 4219 1831 4219 \nQ 1534 4219 1204 4116 \nQ 875 4013 500 3803 \nL 500 4441 \nQ 881 4594 1212 4672 \nQ 1544 4750 1819 4750 \nQ 2544 4750 2975 4387 \nQ 3406 4025 3406 3419 \nQ 3406 3131 3298 2873 \nQ 3191 2616 2906 2266 \nQ 2828 2175 2409 1742 \nQ 1991 1309 1228 531 \nz\n\" id=\"DejaVuSans-32\" transform=\"scale(0.015625)\"/>\n       </defs>\n       <use xlink:href=\"#DejaVuSans-30\"/>\n       <use x=\"63.623047\" xlink:href=\"#DejaVuSans-2e\"/>\n       <use x=\"95.410156\" xlink:href=\"#DejaVuSans-32\"/>\n      </g>\n     </g>\n    </g>\n    <g id=\"ytick_4\">\n     <g id=\"line2d_10\">\n      <g>\n       <use style=\"stroke:#000000;stroke-width:0.8;\" x=\"43.78125\" xlink:href=\"#m8cf5d2f425\" y=\"59.40779\"/>\n      </g>\n     </g>\n     <g id=\"text_10\">\n      <!-- 0.3 -->\n      <g transform=\"translate(20.878125 63.207008)scale(0.1 -0.1)\">\n       <defs>\n        <path d=\"M 2597 2516 \nQ 3050 2419 3304 2112 \nQ 3559 1806 3559 1356 \nQ 3559 666 3084 287 \nQ 2609 -91 1734 -91 \nQ 1441 -91 1130 -33 \nQ 819 25 488 141 \nL 488 750 \nQ 750 597 1062 519 \nQ 1375 441 1716 441 \nQ 2309 441 2620 675 \nQ 2931 909 2931 1356 \nQ 2931 1769 2642 2001 \nQ 2353 2234 1838 2234 \nL 1294 2234 \nL 1294 2753 \nL 1863 2753 \nQ 2328 2753 2575 2939 \nQ 2822 3125 2822 3475 \nQ 2822 3834 2567 4026 \nQ 2313 4219 1838 4219 \nQ 1578 4219 1281 4162 \nQ 984 4106 628 3988 \nL 628 4550 \nQ 988 4650 1302 4700 \nQ 1616 4750 1894 4750 \nQ 2613 4750 3031 4423 \nQ 3450 4097 3450 3541 \nQ 3450 3153 3228 2886 \nQ 3006 2619 2597 2516 \nz\n\" id=\"DejaVuSans-33\" transform=\"scale(0.015625)\"/>\n       </defs>\n       <use xlink:href=\"#DejaVuSans-30\"/>\n       <use x=\"63.623047\" xlink:href=\"#DejaVuSans-2e\"/>\n       <use x=\"95.410156\" xlink:href=\"#DejaVuSans-33\"/>\n      </g>\n     </g>\n    </g>\n    <g id=\"ytick_5\">\n     <g id=\"line2d_11\">\n      <g>\n       <use style=\"stroke:#000000;stroke-width:0.8;\" x=\"43.78125\" xlink:href=\"#m8cf5d2f425\" y=\"26.114106\"/>\n      </g>\n     </g>\n     <g id=\"text_11\">\n      <!-- 0.4 -->\n      <g transform=\"translate(20.878125 29.913325)scale(0.1 -0.1)\">\n       <defs>\n        <path d=\"M 2419 4116 \nL 825 1625 \nL 2419 1625 \nL 2419 4116 \nz\nM 2253 4666 \nL 3047 4666 \nL 3047 1625 \nL 3713 1625 \nL 3713 1100 \nL 3047 1100 \nL 3047 0 \nL 2419 0 \nL 2419 1100 \nL 313 1100 \nL 313 1709 \nL 2253 4666 \nz\n\" id=\"DejaVuSans-34\" transform=\"scale(0.015625)\"/>\n       </defs>\n       <use xlink:href=\"#DejaVuSans-30\"/>\n       <use x=\"63.623047\" xlink:href=\"#DejaVuSans-2e\"/>\n       <use x=\"95.410156\" xlink:href=\"#DejaVuSans-34\"/>\n      </g>\n     </g>\n    </g>\n    <g id=\"text_12\">\n     <!-- Mean decrease in impurity -->\n     <g transform=\"translate(14.798438 161.135313)rotate(-90)scale(0.1 -0.1)\">\n      <defs>\n       <path d=\"M 628 4666 \nL 1569 4666 \nL 2759 1491 \nL 3956 4666 \nL 4897 4666 \nL 4897 0 \nL 4281 0 \nL 4281 4097 \nL 3078 897 \nL 2444 897 \nL 1241 4097 \nL 1241 0 \nL 628 0 \nL 628 4666 \nz\n\" id=\"DejaVuSans-4d\" transform=\"scale(0.015625)\"/>\n       <path id=\"DejaVuSans-20\" transform=\"scale(0.015625)\"/>\n       <path d=\"M 3122 3366 \nL 3122 2828 \nQ 2878 2963 2633 3030 \nQ 2388 3097 2138 3097 \nQ 1578 3097 1268 2742 \nQ 959 2388 959 1747 \nQ 959 1106 1268 751 \nQ 1578 397 2138 397 \nQ 2388 397 2633 464 \nQ 2878 531 3122 666 \nL 3122 134 \nQ 2881 22 2623 -34 \nQ 2366 -91 2075 -91 \nQ 1284 -91 818 406 \nQ 353 903 353 1747 \nQ 353 2603 823 3093 \nQ 1294 3584 2113 3584 \nQ 2378 3584 2631 3529 \nQ 2884 3475 3122 3366 \nz\n\" id=\"DejaVuSans-63\" transform=\"scale(0.015625)\"/>\n       <path d=\"M 3328 2828 \nQ 3544 3216 3844 3400 \nQ 4144 3584 4550 3584 \nQ 5097 3584 5394 3201 \nQ 5691 2819 5691 2113 \nL 5691 0 \nL 5113 0 \nL 5113 2094 \nQ 5113 2597 4934 2840 \nQ 4756 3084 4391 3084 \nQ 3944 3084 3684 2787 \nQ 3425 2491 3425 1978 \nL 3425 0 \nL 2847 0 \nL 2847 2094 \nQ 2847 2600 2669 2842 \nQ 2491 3084 2119 3084 \nQ 1678 3084 1418 2786 \nQ 1159 2488 1159 1978 \nL 1159 0 \nL 581 0 \nL 581 3500 \nL 1159 3500 \nL 1159 2956 \nQ 1356 3278 1631 3431 \nQ 1906 3584 2284 3584 \nQ 2666 3584 2933 3390 \nQ 3200 3197 3328 2828 \nz\n\" id=\"DejaVuSans-6d\" transform=\"scale(0.015625)\"/>\n      </defs>\n      <use xlink:href=\"#DejaVuSans-4d\"/>\n      <use x=\"86.279297\" xlink:href=\"#DejaVuSans-65\"/>\n      <use x=\"147.802734\" xlink:href=\"#DejaVuSans-61\"/>\n      <use x=\"209.082031\" xlink:href=\"#DejaVuSans-6e\"/>\n      <use x=\"272.460938\" xlink:href=\"#DejaVuSans-20\"/>\n      <use x=\"304.248047\" xlink:href=\"#DejaVuSans-64\"/>\n      <use x=\"367.724609\" xlink:href=\"#DejaVuSans-65\"/>\n      <use x=\"429.248047\" xlink:href=\"#DejaVuSans-63\"/>\n      <use x=\"484.228516\" xlink:href=\"#DejaVuSans-72\"/>\n      <use x=\"523.091797\" xlink:href=\"#DejaVuSans-65\"/>\n      <use x=\"584.615234\" xlink:href=\"#DejaVuSans-61\"/>\n      <use x=\"645.894531\" xlink:href=\"#DejaVuSans-73\"/>\n      <use x=\"697.994141\" xlink:href=\"#DejaVuSans-65\"/>\n      <use x=\"759.517578\" xlink:href=\"#DejaVuSans-20\"/>\n      <use x=\"791.304688\" xlink:href=\"#DejaVuSans-69\"/>\n      <use x=\"819.087891\" xlink:href=\"#DejaVuSans-6e\"/>\n      <use x=\"882.466797\" xlink:href=\"#DejaVuSans-20\"/>\n      <use x=\"914.253906\" xlink:href=\"#DejaVuSans-69\"/>\n      <use x=\"942.037109\" xlink:href=\"#DejaVuSans-6d\"/>\n      <use x=\"1039.449219\" xlink:href=\"#DejaVuSans-70\"/>\n      <use x=\"1102.925781\" xlink:href=\"#DejaVuSans-75\"/>\n      <use x=\"1166.304688\" xlink:href=\"#DejaVuSans-72\"/>\n      <use x=\"1207.417969\" xlink:href=\"#DejaVuSans-69\"/>\n      <use x=\"1235.201172\" xlink:href=\"#DejaVuSans-74\"/>\n      <use x=\"1274.410156\" xlink:href=\"#DejaVuSans-79\"/>\n     </g>\n    </g>\n   </g>\n   <g id=\"LineCollection_1\">\n    <path clip-path=\"url(#pce2eecc086)\" d=\"M 74.377083 144.545416 \nL 74.377083 98.12283 \n\" style=\"fill:none;stroke:#000000;stroke-width:1.5;\"/>\n    <path clip-path=\"url(#pce2eecc086)\" d=\"M 135.56875 131.752527 \nL 135.56875 74.395986 \n\" style=\"fill:none;stroke:#000000;stroke-width:1.5;\"/>\n    <path clip-path=\"url(#pce2eecc086)\" d=\"M 196.760417 129.638297 \nL 196.760417 72.428518 \n\" style=\"fill:none;stroke:#000000;stroke-width:1.5;\"/>\n    <path clip-path=\"url(#pce2eecc086)\" d=\"M 257.952083 160.03517 \nL 257.952083 130.489682 \n\" style=\"fill:none;stroke:#000000;stroke-width:1.5;\"/>\n    <path clip-path=\"url(#pce2eecc086)\" d=\"M 319.14375 114.634439 \nL 319.14375 28.87608 \n\" style=\"fill:none;stroke:#000000;stroke-width:1.5;\"/>\n    <path clip-path=\"url(#pce2eecc086)\" d=\"M 380.335417 113.980421 \nL 380.335417 46.693042 \n\" style=\"fill:none;stroke:#000000;stroke-width:1.5;\"/>\n   </g>\n   <g id=\"patch_9\">\n    <path d=\"M 43.78125 166.593125 \nL 43.78125 22.318125 \n\" style=\"fill:none;stroke:#000000;stroke-linecap:square;stroke-linejoin:miter;stroke-width:0.8;\"/>\n   </g>\n   <g id=\"patch_10\">\n    <path d=\"M 410.93125 166.593125 \nL 410.93125 22.318125 \n\" style=\"fill:none;stroke:#000000;stroke-linecap:square;stroke-linejoin:miter;stroke-width:0.8;\"/>\n   </g>\n   <g id=\"patch_11\">\n    <path d=\"M 43.78125 166.593125 \nL 410.93125 166.593125 \n\" style=\"fill:none;stroke:#000000;stroke-linecap:square;stroke-linejoin:miter;stroke-width:0.8;\"/>\n   </g>\n   <g id=\"patch_12\">\n    <path d=\"M 43.78125 22.318125 \nL 410.93125 22.318125 \n\" style=\"fill:none;stroke:#000000;stroke-linecap:square;stroke-linejoin:miter;stroke-width:0.8;\"/>\n   </g>\n   <g id=\"text_13\">\n    <!-- Feature importances using MDI -->\n    <g transform=\"translate(133.788125 16.318125)scale(0.12 -0.12)\">\n     <defs>\n      <path d=\"M 628 4666 \nL 3309 4666 \nL 3309 4134 \nL 1259 4134 \nL 1259 2759 \nL 3109 2759 \nL 3109 2228 \nL 1259 2228 \nL 1259 0 \nL 628 0 \nL 628 4666 \nz\n\" id=\"DejaVuSans-46\" transform=\"scale(0.015625)\"/>\n      <path d=\"M 1259 4147 \nL 1259 519 \nL 2022 519 \nQ 2988 519 3436 956 \nQ 3884 1394 3884 2338 \nQ 3884 3275 3436 3711 \nQ 2988 4147 2022 4147 \nL 1259 4147 \nz\nM 628 4666 \nL 1925 4666 \nQ 3281 4666 3915 4102 \nQ 4550 3538 4550 2338 \nQ 4550 1131 3912 565 \nQ 3275 0 1925 0 \nL 628 0 \nL 628 4666 \nz\n\" id=\"DejaVuSans-44\" transform=\"scale(0.015625)\"/>\n      <path d=\"M 628 4666 \nL 1259 4666 \nL 1259 0 \nL 628 0 \nL 628 4666 \nz\n\" id=\"DejaVuSans-49\" transform=\"scale(0.015625)\"/>\n     </defs>\n     <use xlink:href=\"#DejaVuSans-46\"/>\n     <use x=\"52.019531\" xlink:href=\"#DejaVuSans-65\"/>\n     <use x=\"113.542969\" xlink:href=\"#DejaVuSans-61\"/>\n     <use x=\"174.822266\" xlink:href=\"#DejaVuSans-74\"/>\n     <use x=\"214.03125\" xlink:href=\"#DejaVuSans-75\"/>\n     <use x=\"277.410156\" xlink:href=\"#DejaVuSans-72\"/>\n     <use x=\"316.273438\" xlink:href=\"#DejaVuSans-65\"/>\n     <use x=\"377.796875\" xlink:href=\"#DejaVuSans-20\"/>\n     <use x=\"409.583984\" xlink:href=\"#DejaVuSans-69\"/>\n     <use x=\"437.367188\" xlink:href=\"#DejaVuSans-6d\"/>\n     <use x=\"534.779297\" xlink:href=\"#DejaVuSans-70\"/>\n     <use x=\"598.255859\" xlink:href=\"#DejaVuSans-6f\"/>\n     <use x=\"659.4375\" xlink:href=\"#DejaVuSans-72\"/>\n     <use x=\"700.550781\" xlink:href=\"#DejaVuSans-74\"/>\n     <use x=\"739.759766\" xlink:href=\"#DejaVuSans-61\"/>\n     <use x=\"801.039062\" xlink:href=\"#DejaVuSans-6e\"/>\n     <use x=\"864.417969\" xlink:href=\"#DejaVuSans-63\"/>\n     <use x=\"919.398438\" xlink:href=\"#DejaVuSans-65\"/>\n     <use x=\"980.921875\" xlink:href=\"#DejaVuSans-73\"/>\n     <use x=\"1033.021484\" xlink:href=\"#DejaVuSans-20\"/>\n     <use x=\"1064.808594\" xlink:href=\"#DejaVuSans-75\"/>\n     <use x=\"1128.1875\" xlink:href=\"#DejaVuSans-73\"/>\n     <use x=\"1180.287109\" xlink:href=\"#DejaVuSans-69\"/>\n     <use x=\"1208.070312\" xlink:href=\"#DejaVuSans-6e\"/>\n     <use x=\"1271.449219\" xlink:href=\"#DejaVuSans-67\"/>\n     <use x=\"1334.925781\" xlink:href=\"#DejaVuSans-20\"/>\n     <use x=\"1366.712891\" xlink:href=\"#DejaVuSans-4d\"/>\n     <use x=\"1452.992188\" xlink:href=\"#DejaVuSans-44\"/>\n     <use x=\"1529.994141\" xlink:href=\"#DejaVuSans-49\"/>\n    </g>\n   </g>\n  </g>\n </g>\n <defs>\n  <clipPath id=\"pce2eecc086\">\n   <rect height=\"144.275\" width=\"367.15\" x=\"43.78125\" y=\"22.318125\"/>\n  </clipPath>\n </defs>\n</svg>\n",
      "image/png": "[encoded data removed]"
     },
     "metadata": {
      "needs_background": "light"
     }
    }
   ],
   "source": [
    "importances = model.feature_importances_\n",
    "forest_importances = pd.Series(importances, index=X_train.columns)\n",
    "\n",
    "std = np.std([\n",
    "    tree.feature_importances_ for tree in model.estimators_], axis=0)\n",
    "\n",
    "fig, ax = plt.subplots()\n",
    "forest_importances.plot.bar(yerr=std, ax=ax)\n",
    "ax.set_title(\"Feature importances using MDI\")\n",
    "ax.set_ylabel(\"Mean decrease in impurity\")\n",
    "fig.tight_layout()"
   ]
  },
  {
   "cell_type": "code",
   "execution_count": 733,
   "metadata": {},
   "outputs": [
    {
     "output_type": "execute_result",
     "data": {
      "text/plain": [
       "array([[23, 11],\n",
       "       [ 7, 16]])"
      ]
     },
     "metadata": {},
     "execution_count": 733
    }
   ],
   "source": [
    "from sklearn.metrics import confusion_matrix\n",
    "confusion_matrix(y_test, predictions)"
   ]
  }
 ]
}