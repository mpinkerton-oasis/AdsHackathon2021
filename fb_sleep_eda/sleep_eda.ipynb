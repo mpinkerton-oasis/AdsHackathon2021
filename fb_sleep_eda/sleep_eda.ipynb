{
 "metadata": {
  "language_info": {
   "codemirror_mode": {
    "name": "ipython",
    "version": 3
   },
   "file_extension": ".py",
   "mimetype": "text/x-python",
   "name": "python",
   "nbconvert_exporter": "python",
   "pygments_lexer": "ipython3",
   "version": "3.9.5"
  },
  "orig_nbformat": 2,
  "kernelspec": {
   "name": "python395jvsc74a57bd01ef85aefffd126bbafcdd59b545562a4a2b98bad151b8cb181c3eeee4e847cfd",
   "display_name": "Python 3.9.5 64-bit ('sleep_tracker': virtualenvwrapper)"
  },
  "metadata": {
   "interpreter": {
    "hash": "aee8b7b246df8f9039afb4144a1f6fd8d2ca17a180786b69acc140d282b71a49"
   }
  }
 },
 "nbformat": 4,
 "nbformat_minor": 2,
 "cells": [
  {
   "cell_type": "code",
   "execution_count": null,
   "metadata": {},
   "outputs": [],
   "source": [
    "import fitbit\n",
    "import gather_keys_oauth2 as Oauth2\n",
    "import pandas as pd \n",
    "import datetime\n",
    "\n",
    "CLIENT_ID = '239Z9F'\n",
    "CLIENT_SECRET = 'fcd469fed13e810f60d314919d9cc944'\n"
   ]
  },
  {
   "cell_type": "code",
   "execution_count": null,
   "metadata": {},
   "outputs": [],
   "source": [
    "server = Oauth2.OAuth2Server(CLIENT_ID, CLIENT_SECRET)\n",
    "server.browser_authorize()\n",
    "ACCESS_TOKEN = str(server.fitbit.client.session.token['access_token'])\n",
    "REFRESH_TOKEN = str(server.fitbit.client.session.token['refresh_token'])\n",
    "auth2_client = fitbit.Fitbit(CLIENT_ID, CLIENT_SECRET, oauth2=True, access_token=ACCESS_TOKEN, refresh_token=REFRESH_TOKEN)"
   ]
  },
  {
   "cell_type": "code",
   "execution_count": null,
   "metadata": {},
   "outputs": [],
   "source": [
    "start_time = pd.datetime(year = 2021, month = 2, day = 1)\n",
    "end_time = pd.datetime(year = 2021, month = 4, day = 30)\n",
    "all_dates = pd.date_range(start=start_time, end = end_time)\n",
    "\n",
    "date = []\n",
    "duration = []\n",
    "efficiency = []\n",
    "start_time = []\n",
    "total_sleep_mins = []\n",
    "deep_mins = []\n",
    "light_mins = []\n",
    "wake_mins = []\n",
    "rem_mins = []\n",
    "\n",
    "for d in all_dates:\n",
    "    \n",
    "    d = d.date().strftime(\"%Y-%m-%d\")\n",
    "    data = auth2_client.sleep(date=oneDate)\n",
    "\n",
    "    if len(sleep_data['sleep']) == 0: \n",
    "        continue\n",
    "    if not 'stages' in sleep_data['summary']:\n",
    "        continue\n",
    "\n",
    "    date.append(sleep_data['sleep'][0]['dateOfSleep'])\n",
    "    duration.append(sleep_data['sleep'][0]['duration'] / 60) \n",
    "    efficiency.append(sleep_data['sleep'][0]['efficiency'])\n",
    "    start_time.append(\n",
    "        datetime.datetime.strptime(sleep_data['sleep'][0]['startTime'], '%Y-%m-%dT%H:%M:%S.%f').time())\n",
    "    total_sleep_mins.append(sleep_data['summary']['stages']['deep'])\n",
    "    deep_mins.append(sleep_data['summary']['stages']['deep'])\n",
    "    light_mins.append(sleep_data['summary']['stages']['light'])\n",
    "    wake_mins.append(sleep_data['summary']['stages']['wake'])\n",
    "    rem_mins.append(sleep_data['summary']['stages']['rem'])\n",
    "\n",
    "summary_df = pd.DataFrame(\n",
    "    {\n",
    "        'date': date, \n",
    "        'duration': duration,\n",
    "        'efficiency': efficiency,\n",
    "        'start_time': start_time,\n",
    "        'total_sleep_mins': total_sleep_mins,\n",
    "        'deep_mins': deep_mins,\n",
    "        'light_mins': light_mins,\n",
    "        'wake_mins': wake_mins,\n",
    "        'rem_mins': rem_mins\n",
    "    })\n"
   ]
  },
  {
   "cell_type": "code",
   "execution_count": null,
   "metadata": {},
   "outputs": [],
   "source": [
    "oneDayData['sleep'][0].keys()\n",
    "summary_df.head()\n",
    "#  = oneDayData['summary']['stages']['deep']"
   ]
  }
 ]
}