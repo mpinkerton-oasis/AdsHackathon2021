{
 "cells": [
  {
   "cell_type": "code",
   "execution_count": null,
   "id": "14988f33",
   "metadata": {},
   "outputs": [],
   "source": [
    "from garminconnect import (\n",
    "    Garmin,\n",
    "    GarminConnectConnectionError,\n",
    "    GarminConnectTooManyRequestsError,\n",
    "    GarminConnectAuthenticationError,\n",
    ")\n",
    "import requests\n",
    "from datetime import date\n",
    "import numpy as np\n",
    "import matplotlib.pyplot as plt\n",
    "import cv2 # used for loading and processing images\n",
    "import xmltodict\n",
    "import os\n",
    "\n",
    "today = date.today()"
   ]
  },
  {
   "cell_type": "markdown",
   "id": "6507d2df",
   "metadata": {},
   "source": [
    "### Read your user name and password from a text file"
   ]
  },
  {
   "cell_type": "code",
   "execution_count": null,
   "id": "5365b490",
   "metadata": {},
   "outputs": [],
   "source": [
    "USER_EMAIL, USER_PASSWORD = np.loadtxt(\"./garmin_user_pass.txt\",dtype=str)"
   ]
  },
  {
   "cell_type": "markdown",
   "id": "42bc48be",
   "metadata": {},
   "source": [
    "### Login Script"
   ]
  },
  {
   "cell_type": "code",
   "execution_count": null,
   "id": "d37d64aa",
   "metadata": {},
   "outputs": [],
   "source": [
    "try:\n",
    "    client = Garmin(USER_EMAIL, USER_PASSWORD)\n",
    "    client.login()\n",
    "    print(f\"logged into Garmin as\",client.get_full_name())\n",
    "\n",
    "except (\n",
    "    GarminConnectConnectionError,\n",
    "    GarminConnectAuthenticationError,\n",
    "    GarminConnectTooManyRequestsError,\n",
    ") as err:\n",
    "    print(\"Error occurred during Garmin Connect Client init: %s\" % err)\n",
    "\n",
    "except Exception as e:  # pylint: disable=broad-except\n",
    "    print(\"Unknown error occurred during Garmin Connect Client init\")\n",
    "    print(e)"
   ]
  },
  {
   "cell_type": "markdown",
   "id": "3c035782",
   "metadata": {},
   "source": [
    "### Get Your N Most Recent Activities"
   ]
  },
  {
   "cell_type": "code",
   "execution_count": null,
   "id": "c09b619d",
   "metadata": {},
   "outputs": [],
   "source": [
    "N_ACTIVITIES = 3\n",
    "\n",
    "activities = client.get_activities(0,N_ACTIVITIES) # 0=start, 1=limit\n",
    "activities_data = []\n",
    "for act in activities:\n",
    "    activity_id = act[\"activityId\"] # Get the id\n",
    "    gpx_data = client.download_activity(activity_id, dl_fmt=client.ActivityDownloadFormat.GPX)\n",
    "    activities_data.append(gpx_data)\n",
    "    \n",
    "    #Write the file to disk\n",
    "    output_file = f\"./{str(activity_id)}.gpx\"\n",
    "    with open(output_file, \"wb\") as fb:\n",
    "        fb.write(gpx_data)"
   ]
  },
  {
   "cell_type": "markdown",
   "id": "b33dd3af",
   "metadata": {},
   "source": [
    "### Object to handle sampling green space data"
   ]
  },
  {
   "cell_type": "code",
   "execution_count": 68,
   "id": "0fe06a65",
   "metadata": {},
   "outputs": [],
   "source": [
    "class image_sampler:\n",
    "    \n",
    "    def __init__(self, image_path, extent):\n",
    "        #This is handled very badly\n",
    "        if(os.path.exists(image_path)):\n",
    "            print(\"loading image\")\n",
    "            self.image = cv2.imread(image_path, -1)\n",
    "            self.image_shape = self.image.shape\n",
    "            self.extent = extent\n",
    "        else:\n",
    "            print(\"bad image path\")\n",
    "        \n",
    "        \n",
    "    def sample_image(self, point):\n",
    "        #pixel_ref = point_to_pixelref(image.shape, extent, sample_point)\n",
    "        dx = self.extent[0][0] - self.extent[1][0]\n",
    "        dy = self.extent[0][1] - self.extent[1][1]\n",
    "\n",
    "        new_x = point[0] - self.extent[1][0]\n",
    "        new_y = point[1] - self.extent[1][1]\n",
    "\n",
    "        pc_x = new_x / dx\n",
    "        pc_y = new_y / dy\n",
    "\n",
    "        x = self.image_shape[0] - round(self.image_shape[0] * pc_x)\n",
    "        y = self.image_shape[1] - round(self.image_shape[1] * pc_y)\n",
    "        \n",
    "        return (self.image[x, y] > 0)\n",
    "    \n",
    "    def sample_activity(self, activity):\n",
    "        if(activity['gpx']['trk']['trkseg'] == None): # all activities seem to have these attributes?\n",
    "            print(\"invalid activity\")\n",
    "            return False\n",
    "        trkpts = activity['gpx']['trk']['trkseg']['trkpt']\n",
    "        flag = False\n",
    "        for point in trkpts:\n",
    "            if(self.sample_image([float(point['@lat']), float(point['@lon'])])):\n",
    "                flag = True\n",
    "                break\n",
    "        return flag"
   ]
  },
  {
   "cell_type": "markdown",
   "id": "e8130600",
   "metadata": {},
   "source": [
    "### Instance the object with some data"
   ]
  },
  {
   "cell_type": "code",
   "execution_count": 72,
   "id": "b50f90ba",
   "metadata": {},
   "outputs": [
    {
     "name": "stdout",
     "output_type": "stream",
     "text": [
      "loading image\n"
     ]
    }
   ],
   "source": [
    "extent = [[60.810092954, -9.140209406], [49.847346159, 2.679817307]]  # wgs84 extent of UK\n",
    "green_space_data_path = \"./merged_greenspaces.png\"\n",
    "sampler = image_sampler(green_space_data_path, extent)"
   ]
  },
  {
   "cell_type": "markdown",
   "id": "e8b1139d",
   "metadata": {},
   "source": [
    "### Lets sample some dummy locations"
   ]
  },
  {
   "cell_type": "code",
   "execution_count": 73,
   "id": "8eb65f9e",
   "metadata": {},
   "outputs": [
    {
     "name": "stdout",
     "output_type": "stream",
     "text": [
      "True\n",
      "True\n",
      "False\n"
     ]
    }
   ],
   "source": [
    "location0 = [51.581207,-0.150764] # highgate wood\n",
    "location1 = [51.564395,-0.163432] # hampstead heath\n",
    "location2 = [51.578052,-0.205430] # somewhere not green\n",
    "\n",
    "locations = [location0, location1, location2]\n",
    "\n",
    "for l in locations:\n",
    "    print(sampler.sample_image(l))"
   ]
  },
  {
   "cell_type": "markdown",
   "id": "f1de4954",
   "metadata": {},
   "source": [
    "### Lets now sample an activity and see if it went into a green space"
   ]
  },
  {
   "cell_type": "code",
   "execution_count": 74,
   "id": "d0a261a4",
   "metadata": {},
   "outputs": [
    {
     "name": "stdout",
     "output_type": "stream",
     "text": [
      "invalid activity\n",
      "Is activity 0 in a green space? False\n",
      "invalid activity\n",
      "Is activity 1 in a green space? False\n",
      "Is activity 2 in a green space? True\n"
     ]
    }
   ],
   "source": [
    "activity = activities_data[0]\n",
    "for i,a in enumerate(activities_data):\n",
    "    print(f\"Is activity {i} in a green space?\", sampler.sample_activity(xmltodict.parse(a)))"
   ]
  }
 ],
 "metadata": {
  "kernelspec": {
   "display_name": "Python 3",
   "language": "python",
   "name": "python3"
  },
  "language_info": {
   "codemirror_mode": {
    "name": "ipython",
    "version": 3
   },
   "file_extension": ".py",
   "mimetype": "text/x-python",
   "name": "python",
   "nbconvert_exporter": "python",
   "pygments_lexer": "ipython3",
   "version": "3.7.10"
  }
 },
 "nbformat": 4,
 "nbformat_minor": 5
}
