{
 "cells": [
  {
   "cell_type": "code",
   "execution_count": null,
   "id": "f144dfe6",
   "metadata": {},
   "outputs": [],
   "source": [
    "from garminconnect import (\n",
    "    Garmin,\n",
    "    GarminConnectConnectionError,\n",
    "    GarminConnectTooManyRequestsError,\n",
    "    GarminConnectAuthenticationError,\n",
    ")\n",
    "import requests\n",
    "from datetime import date\n",
    "import numpy as np\n",
    "\n",
    "today = date.today()"
   ]
  },
  {
   "cell_type": "markdown",
   "id": "7a7914c4",
   "metadata": {},
   "source": [
    "### Get email and password"
   ]
  },
  {
   "cell_type": "code",
   "execution_count": null,
   "id": "dc97c32e",
   "metadata": {},
   "outputs": [],
   "source": [
    "USER_EMAIL, USER_PASSWORD = np.loadtxt(\"./garmin_user_pass.txt\",dtype=str)"
   ]
  },
  {
   "cell_type": "markdown",
   "id": "e768fc64",
   "metadata": {},
   "source": [
    "### Login script"
   ]
  },
  {
   "cell_type": "code",
   "execution_count": null,
   "id": "2575e0b3",
   "metadata": {},
   "outputs": [],
   "source": [
    "try:\n",
    "    client = Garmin(USER_EMAIL, USER_PASSWORD)\n",
    "    client.login()\n",
    "    print(f\"logged into Garmin as\",client.get_full_name())\n",
    "\n",
    "except (\n",
    "    GarminConnectConnectionError,\n",
    "    GarminConnectAuthenticationError,\n",
    "    GarminConnectTooManyRequestsError,\n",
    ") as err:\n",
    "    print(\"Error occurred during Garmin Connect Client init: %s\" % err)\n",
    "\n",
    "except Exception as e:  # pylint: disable=broad-except\n",
    "    print(\"Unknown error occurred during Garmin Connect Client init\")\n",
    "    print(e)"
   ]
  },
  {
   "cell_type": "markdown",
   "id": "b77c9cd9",
   "metadata": {},
   "source": [
    "### Get recent stats"
   ]
  },
  {
   "cell_type": "code",
   "execution_count": null,
   "id": "8513a961",
   "metadata": {},
   "outputs": [],
   "source": [
    "raw_stats = client.get_stats(today.isoformat())\n",
    "sleep_stats = client.get_sleep_data(today.isoformat())\n",
    "stats_to_get = ['bodyBatteryMostRecentValue', \n",
    "                'stressQualifier', \n",
    "                'restingHeartRate', \n",
    "                'lastSevenDaysAvgRestingHeartRate',\n",
    "                'measurableAwakeDuration', \n",
    "                'measurableAsleepDuration']\n",
    "sleep_stats_to_get = ['deepSleepSeconds', \n",
    "                      'lightSleepSeconds',\n",
    "                      'remSleepSeconds']\n",
    "stats = []\n",
    "for s in stats_to_get:\n",
    "    stats.append(raw_stats[s])\n",
    "for s in sleep_stats_to_get:\n",
    "    stats.append(sleep_stats['dailySleepDTO'][s]) #outputs seconds spent in each sleep state\n",
    "    \n",
    "print(stats)"
   ]
  },
  {
   "cell_type": "markdown",
   "id": "da91d228",
   "metadata": {},
   "source": [
    "### Suggestions for some slack status updates"
   ]
  },
  {
   "cell_type": "code",
   "execution_count": null,
   "id": "a0195888",
   "metadata": {},
   "outputs": [],
   "source": [
    "hr, stress_state, resting_hr, resting_hr_average, awake_time, asleep_time, deep_sleep, light_sleep, rem_sleep = stats\n",
    "\n",
    "\n",
    "if resting_hr > resting_hr_average:\n",
    "    '''\n",
    "    I tend to find that my resting heart rate going up tends to correlate with my energy\n",
    "    so if I do something strenuous the day before I generally find that my resting hr is\n",
    "    higher the next day and I feel more tired\n",
    "    '''\n",
    "    print(\"Status: Feeling a bit tired today\")\n",
    "    \n",
    "if ((awake_time/3600.0) > 10):\n",
    "    '''\n",
    "    If you have been awake for more than 10 hours its probably starting to get late in the\n",
    "    day for you\n",
    "    '''\n",
    "    print(\"Status: Been awake for a while now\")\n",
    "    \n",
    "if(stress_state == \"CALM\"):\n",
    "    '''\n",
    "    Stress on Garmin is to do with heart rate variability (I think)\n",
    "    '''\n",
    "    print(\"Status: Ready to focus\")"
   ]
  },
  {
   "cell_type": "markdown",
   "id": "64b67274",
   "metadata": {},
   "source": []
  },
  {
   "cell_type": "code",
   "execution_count": null,
   "id": "05e600a4",
   "metadata": {},
   "outputs": [],
   "source": []
  }
 ],
 "metadata": {
  "kernelspec": {
   "display_name": "Python 3",
   "language": "python",
   "name": "python3"
  },
  "language_info": {
   "codemirror_mode": {
    "name": "ipython",
    "version": 3
   },
   "file_extension": ".py",
   "mimetype": "text/x-python",
   "name": "python",
   "nbconvert_exporter": "python",
   "pygments_lexer": "ipython3",
   "version": "3.7.10"
  }
 },
 "nbformat": 4,
 "nbformat_minor": 5
}
